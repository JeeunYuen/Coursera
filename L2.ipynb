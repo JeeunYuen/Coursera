{
 "cells": [
  {
   "cell_type": "markdown",
   "metadata": {},
   "source": [
    "# L2"
   ]
  },
  {
   "cell_type": "markdown",
   "metadata": {},
   "source": [
    "Pip is a tool that installs Python packages. We can install pandas like below."
   ]
  },
  {
   "cell_type": "code",
   "execution_count": null,
   "metadata": {},
   "outputs": [],
   "source": [
    "#!pip install pandas"
   ]
  },
  {
   "cell_type": "markdown",
   "metadata": {},
   "source": [
    "Now, we can import pandas. It's a widespread convention to import pandas with alias as pd."
   ]
  },
  {
   "cell_type": "code",
   "execution_count": 13,
   "metadata": {},
   "outputs": [],
   "source": [
    "import pandas as pd\n",
    "import numpy as np"
   ]
  },
  {
   "cell_type": "markdown",
   "metadata": {},
   "source": [
    "`read_csv()` method from pandas reads a tabular data into a pandas DataFrame. DataFrame is a data structure that pandas uses that has rows and columns and their corresponding labels"
   ]
  },
  {
   "cell_type": "code",
   "execution_count": 5,
   "metadata": {},
   "outputs": [],
   "source": [
    "DIS = pd.read_csv('../Data/DIS.csv')"
   ]
  },
  {
   "cell_type": "markdown",
   "metadata": {},
   "source": [
    "Check the DataFrame if it was read correctly"
   ]
  },
  {
   "cell_type": "code",
   "execution_count": 6,
   "metadata": {
    "scrolled": true
   },
   "outputs": [
    {
     "data": {
      "text/html": [
       "<div>\n",
       "<style scoped>\n",
       "    .dataframe tbody tr th:only-of-type {\n",
       "        vertical-align: middle;\n",
       "    }\n",
       "\n",
       "    .dataframe tbody tr th {\n",
       "        vertical-align: top;\n",
       "    }\n",
       "\n",
       "    .dataframe thead th {\n",
       "        text-align: right;\n",
       "    }\n",
       "</style>\n",
       "<table border=\"1\" class=\"dataframe\">\n",
       "  <thead>\n",
       "    <tr style=\"text-align: right;\">\n",
       "      <th></th>\n",
       "      <th>Date</th>\n",
       "      <th>Open</th>\n",
       "      <th>High</th>\n",
       "      <th>Low</th>\n",
       "      <th>Close</th>\n",
       "      <th>Adj Close</th>\n",
       "      <th>Volume</th>\n",
       "    </tr>\n",
       "  </thead>\n",
       "  <tbody>\n",
       "    <tr>\n",
       "      <th>0</th>\n",
       "      <td>1/2/1962</td>\n",
       "      <td>0.092908</td>\n",
       "      <td>0.096026</td>\n",
       "      <td>0.092908</td>\n",
       "      <td>0.092908</td>\n",
       "      <td>0.035517</td>\n",
       "      <td>817400</td>\n",
       "    </tr>\n",
       "    <tr>\n",
       "      <th>1</th>\n",
       "      <td>1/3/1962</td>\n",
       "      <td>0.092908</td>\n",
       "      <td>0.094467</td>\n",
       "      <td>0.092908</td>\n",
       "      <td>0.094155</td>\n",
       "      <td>0.035994</td>\n",
       "      <td>778500</td>\n",
       "    </tr>\n",
       "    <tr>\n",
       "      <th>2</th>\n",
       "      <td>1/4/1962</td>\n",
       "      <td>0.094155</td>\n",
       "      <td>0.094467</td>\n",
       "      <td>0.093532</td>\n",
       "      <td>0.094155</td>\n",
       "      <td>0.035994</td>\n",
       "      <td>934200</td>\n",
       "    </tr>\n",
       "    <tr>\n",
       "      <th>3</th>\n",
       "      <td>1/5/1962</td>\n",
       "      <td>0.094155</td>\n",
       "      <td>0.094779</td>\n",
       "      <td>0.093844</td>\n",
       "      <td>0.094467</td>\n",
       "      <td>0.036113</td>\n",
       "      <td>934200</td>\n",
       "    </tr>\n",
       "    <tr>\n",
       "      <th>4</th>\n",
       "      <td>1/8/1962</td>\n",
       "      <td>0.094467</td>\n",
       "      <td>0.095714</td>\n",
       "      <td>0.092285</td>\n",
       "      <td>0.094155</td>\n",
       "      <td>0.035994</td>\n",
       "      <td>1245600</td>\n",
       "    </tr>\n",
       "    <tr>\n",
       "      <th>...</th>\n",
       "      <td>...</td>\n",
       "      <td>...</td>\n",
       "      <td>...</td>\n",
       "      <td>...</td>\n",
       "      <td>...</td>\n",
       "      <td>...</td>\n",
       "      <td>...</td>\n",
       "    </tr>\n",
       "    <tr>\n",
       "      <th>14594</th>\n",
       "      <td>12/23/2019</td>\n",
       "      <td>145.910004</td>\n",
       "      <td>146.330002</td>\n",
       "      <td>144.330002</td>\n",
       "      <td>144.679993</td>\n",
       "      <td>144.679993</td>\n",
       "      <td>9314000</td>\n",
       "    </tr>\n",
       "    <tr>\n",
       "      <th>14595</th>\n",
       "      <td>12/24/2019</td>\n",
       "      <td>144.580002</td>\n",
       "      <td>145.429993</td>\n",
       "      <td>144.449997</td>\n",
       "      <td>145.289993</td>\n",
       "      <td>145.289993</td>\n",
       "      <td>3508500</td>\n",
       "    </tr>\n",
       "    <tr>\n",
       "      <th>14596</th>\n",
       "      <td>12/26/2019</td>\n",
       "      <td>145.399994</td>\n",
       "      <td>145.860001</td>\n",
       "      <td>145.169998</td>\n",
       "      <td>145.699997</td>\n",
       "      <td>145.699997</td>\n",
       "      <td>4422000</td>\n",
       "    </tr>\n",
       "    <tr>\n",
       "      <th>14597</th>\n",
       "      <td>12/27/2019</td>\n",
       "      <td>146.050003</td>\n",
       "      <td>146.509995</td>\n",
       "      <td>145.449997</td>\n",
       "      <td>145.750000</td>\n",
       "      <td>145.750000</td>\n",
       "      <td>5495300</td>\n",
       "    </tr>\n",
       "    <tr>\n",
       "      <th>14598</th>\n",
       "      <td>12/30/2019</td>\n",
       "      <td>145.750000</td>\n",
       "      <td>145.869995</td>\n",
       "      <td>143.399994</td>\n",
       "      <td>143.770004</td>\n",
       "      <td>143.770004</td>\n",
       "      <td>6602800</td>\n",
       "    </tr>\n",
       "  </tbody>\n",
       "</table>\n",
       "<p>14599 rows × 7 columns</p>\n",
       "</div>"
      ],
      "text/plain": [
       "             Date        Open        High         Low       Close   Adj Close  \\\n",
       "0        1/2/1962    0.092908    0.096026    0.092908    0.092908    0.035517   \n",
       "1        1/3/1962    0.092908    0.094467    0.092908    0.094155    0.035994   \n",
       "2        1/4/1962    0.094155    0.094467    0.093532    0.094155    0.035994   \n",
       "3        1/5/1962    0.094155    0.094779    0.093844    0.094467    0.036113   \n",
       "4        1/8/1962    0.094467    0.095714    0.092285    0.094155    0.035994   \n",
       "...           ...         ...         ...         ...         ...         ...   \n",
       "14594  12/23/2019  145.910004  146.330002  144.330002  144.679993  144.679993   \n",
       "14595  12/24/2019  144.580002  145.429993  144.449997  145.289993  145.289993   \n",
       "14596  12/26/2019  145.399994  145.860001  145.169998  145.699997  145.699997   \n",
       "14597  12/27/2019  146.050003  146.509995  145.449997  145.750000  145.750000   \n",
       "14598  12/30/2019  145.750000  145.869995  143.399994  143.770004  143.770004   \n",
       "\n",
       "        Volume  \n",
       "0       817400  \n",
       "1       778500  \n",
       "2       934200  \n",
       "3       934200  \n",
       "4      1245600  \n",
       "...        ...  \n",
       "14594  9314000  \n",
       "14595  3508500  \n",
       "14596  4422000  \n",
       "14597  5495300  \n",
       "14598  6602800  \n",
       "\n",
       "[14599 rows x 7 columns]"
      ]
     },
     "execution_count": 6,
     "metadata": {},
     "output_type": "execute_result"
    }
   ],
   "source": [
    "DIS"
   ]
  },
  {
   "cell_type": "markdown",
   "metadata": {},
   "source": [
    "numpy.dtype shows data type. Data type 'o' is an object."
   ]
  },
  {
   "cell_type": "code",
   "execution_count": 16,
   "metadata": {
    "scrolled": true
   },
   "outputs": [
    {
     "data": {
      "text/plain": [
       "dtype('O')"
      ]
     },
     "execution_count": 16,
     "metadata": {},
     "output_type": "execute_result"
    }
   ],
   "source": [
    "DIS.Date.dtype"
   ]
  },
  {
   "cell_type": "markdown",
   "metadata": {},
   "source": [
    "Make a column with name 'date_format'.\n",
    "'to_datetime' converts argument to datetime. Inside the function 'to_datetime', give 'format'.\n",
    "You can specify the format of the date you use. For example, '%d/%m/%Y' or '%m/%d/%Y'."
   ]
  },
  {
   "cell_type": "code",
   "execution_count": 9,
   "metadata": {
    "scrolled": true
   },
   "outputs": [],
   "source": [
    "DIS['date_format'] = pd.to_datetime(DIS['Date'], format=\"%m/%d/%Y\")"
   ]
  },
  {
   "cell_type": "markdown",
   "metadata": {},
   "source": [
    "Let's chect date_format column in DIS data. "
   ]
  },
  {
   "cell_type": "code",
   "execution_count": 10,
   "metadata": {},
   "outputs": [
    {
     "data": {
      "text/plain": [
       "0       1962-01-02\n",
       "1       1962-01-03\n",
       "2       1962-01-04\n",
       "3       1962-01-05\n",
       "4       1962-01-08\n",
       "           ...    \n",
       "14594   2019-12-23\n",
       "14595   2019-12-24\n",
       "14596   2019-12-26\n",
       "14597   2019-12-27\n",
       "14598   2019-12-30\n",
       "Name: date_format, Length: 14599, dtype: datetime64[ns]"
      ]
     },
     "execution_count": 10,
     "metadata": {},
     "output_type": "execute_result"
    }
   ],
   "source": [
    "DIS.date_format"
   ]
  },
  {
   "cell_type": "markdown",
   "metadata": {},
   "source": [
    "Let's check data type of date_format. '<M8[ns]' is a specific type of datetime."
   ]
  },
  {
   "cell_type": "code",
   "execution_count": 11,
   "metadata": {},
   "outputs": [
    {
     "data": {
      "text/plain": [
       "dtype('<M8[ns]')"
      ]
     },
     "execution_count": 11,
     "metadata": {},
     "output_type": "execute_result"
    }
   ],
   "source": [
    "DIS.date_format.dtype"
   ]
  },
  {
   "cell_type": "markdown",
   "metadata": {},
   "source": [
    "Let's export csv data to file. \n",
    "'index = False' will let you export the dataframe without index."
   ]
  },
  {
   "cell_type": "code",
   "execution_count": 12,
   "metadata": {
    "pycharm": {
     "name": "#%%\n"
    }
   },
   "outputs": [],
   "source": [
    "DIS.to_csv(\"DIS_data.csv\", index = False)"
   ]
  },
  {
   "cell_type": "code",
   "execution_count": null,
   "metadata": {},
   "outputs": [],
   "source": []
  }
 ],
 "metadata": {
  "kernelspec": {
   "display_name": "Python 3",
   "language": "python",
   "name": "python3"
  },
  "language_info": {
   "codemirror_mode": {
    "name": "ipython",
    "version": 3
   },
   "file_extension": ".py",
   "mimetype": "text/x-python",
   "name": "python",
   "nbconvert_exporter": "python",
   "pygments_lexer": "ipython3",
   "version": "3.8.5"
  }
 },
 "nbformat": 4,
 "nbformat_minor": 2
}
