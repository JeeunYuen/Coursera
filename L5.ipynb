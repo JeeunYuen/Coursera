{
 "cells": [
  {
   "cell_type": "markdown",
   "metadata": {},
   "source": [
    "Import statsmodels to do statistical analysis and modeling\n",
    "'statsmodels.api' will help us to make varous models"
   ]
  },
  {
   "cell_type": "code",
   "execution_count": 1,
   "metadata": {},
   "outputs": [],
   "source": [
    "%matplotlib inline\n",
    "import pandas as pd\n",
    "import matplotlib.pyplot as plt\n",
    "import statsmodels.api as sm\n",
    "import statsmodels.formula.api as smf"
   ]
  },
  {
   "cell_type": "markdown",
   "metadata": {},
   "source": [
    "\n"
   ]
  },
  {
   "cell_type": "markdown",
   "metadata": {},
   "source": [
    "Read 'SP500_data.csv' that we created in the previous exercise.\n"
   ]
  },
  {
   "cell_type": "code",
   "execution_count": 2,
   "metadata": {},
   "outputs": [
    {
     "data": {
      "text/html": [
       "<div>\n",
       "<style scoped>\n",
       "    .dataframe tbody tr th:only-of-type {\n",
       "        vertical-align: middle;\n",
       "    }\n",
       "\n",
       "    .dataframe tbody tr th {\n",
       "        vertical-align: top;\n",
       "    }\n",
       "\n",
       "    .dataframe thead th {\n",
       "        text-align: right;\n",
       "    }\n",
       "</style>\n",
       "<table border=\"1\" class=\"dataframe\">\n",
       "  <thead>\n",
       "    <tr style=\"text-align: right;\">\n",
       "      <th></th>\n",
       "      <th>year</th>\n",
       "      <th>dividendYield</th>\n",
       "      <th>Peratio</th>\n",
       "      <th>ShillerPEratio</th>\n",
       "      <th>10yearTyield</th>\n",
       "      <th>SP500level</th>\n",
       "      <th>annual_return</th>\n",
       "    </tr>\n",
       "  </thead>\n",
       "  <tbody>\n",
       "    <tr>\n",
       "      <th>0</th>\n",
       "      <td>1950</td>\n",
       "      <td>0.0744</td>\n",
       "      <td>7.47</td>\n",
       "      <td>11.90</td>\n",
       "      <td>0.0257</td>\n",
       "      <td>21.21</td>\n",
       "      <td>NaN</td>\n",
       "    </tr>\n",
       "    <tr>\n",
       "      <th>1</th>\n",
       "      <td>1951</td>\n",
       "      <td>0.0602</td>\n",
       "      <td>9.95</td>\n",
       "      <td>12.53</td>\n",
       "      <td>0.0268</td>\n",
       "      <td>24.19</td>\n",
       "      <td>0.140500</td>\n",
       "    </tr>\n",
       "    <tr>\n",
       "      <th>2</th>\n",
       "      <td>1952</td>\n",
       "      <td>0.0541</td>\n",
       "      <td>10.86</td>\n",
       "      <td>13.01</td>\n",
       "      <td>0.0283</td>\n",
       "      <td>26.18</td>\n",
       "      <td>0.082265</td>\n",
       "    </tr>\n",
       "    <tr>\n",
       "      <th>3</th>\n",
       "      <td>1953</td>\n",
       "      <td>0.0584</td>\n",
       "      <td>10.10</td>\n",
       "      <td>12.00</td>\n",
       "      <td>0.0248</td>\n",
       "      <td>25.46</td>\n",
       "      <td>-0.027502</td>\n",
       "    </tr>\n",
       "    <tr>\n",
       "      <th>4</th>\n",
       "      <td>1954</td>\n",
       "      <td>0.0440</td>\n",
       "      <td>12.58</td>\n",
       "      <td>15.99</td>\n",
       "      <td>0.0261</td>\n",
       "      <td>35.60</td>\n",
       "      <td>0.398272</td>\n",
       "    </tr>\n",
       "    <tr>\n",
       "      <th>...</th>\n",
       "      <td>...</td>\n",
       "      <td>...</td>\n",
       "      <td>...</td>\n",
       "      <td>...</td>\n",
       "      <td>...</td>\n",
       "      <td>...</td>\n",
       "      <td>...</td>\n",
       "    </tr>\n",
       "    <tr>\n",
       "      <th>65</th>\n",
       "      <td>2015</td>\n",
       "      <td>0.0211</td>\n",
       "      <td>22.18</td>\n",
       "      <td>24.21</td>\n",
       "      <td>0.0209</td>\n",
       "      <td>1918.60</td>\n",
       "      <td>-0.054029</td>\n",
       "    </tr>\n",
       "    <tr>\n",
       "      <th>66</th>\n",
       "      <td>2016</td>\n",
       "      <td>0.0203</td>\n",
       "      <td>23.59</td>\n",
       "      <td>28.06</td>\n",
       "      <td>0.0243</td>\n",
       "      <td>2275.12</td>\n",
       "      <td>0.185823</td>\n",
       "    </tr>\n",
       "    <tr>\n",
       "      <th>67</th>\n",
       "      <td>2017</td>\n",
       "      <td>0.0185</td>\n",
       "      <td>24.97</td>\n",
       "      <td>33.31</td>\n",
       "      <td>0.0258</td>\n",
       "      <td>2789.80</td>\n",
       "      <td>0.226221</td>\n",
       "    </tr>\n",
       "    <tr>\n",
       "      <th>68</th>\n",
       "      <td>2018</td>\n",
       "      <td>0.0209</td>\n",
       "      <td>19.60</td>\n",
       "      <td>28.38</td>\n",
       "      <td>0.0271</td>\n",
       "      <td>2607.39</td>\n",
       "      <td>-0.065385</td>\n",
       "    </tr>\n",
       "    <tr>\n",
       "      <th>69</th>\n",
       "      <td>2019</td>\n",
       "      <td>0.0181</td>\n",
       "      <td>24.47</td>\n",
       "      <td>31.31</td>\n",
       "      <td>0.0183</td>\n",
       "      <td>3265.38</td>\n",
       "      <td>0.252356</td>\n",
       "    </tr>\n",
       "  </tbody>\n",
       "</table>\n",
       "<p>70 rows × 7 columns</p>\n",
       "</div>"
      ],
      "text/plain": [
       "    year  dividendYield  Peratio  ShillerPEratio  10yearTyield  SP500level  \\\n",
       "0   1950         0.0744     7.47           11.90        0.0257       21.21   \n",
       "1   1951         0.0602     9.95           12.53        0.0268       24.19   \n",
       "2   1952         0.0541    10.86           13.01        0.0283       26.18   \n",
       "3   1953         0.0584    10.10           12.00        0.0248       25.46   \n",
       "4   1954         0.0440    12.58           15.99        0.0261       35.60   \n",
       "..   ...            ...      ...             ...           ...         ...   \n",
       "65  2015         0.0211    22.18           24.21        0.0209     1918.60   \n",
       "66  2016         0.0203    23.59           28.06        0.0243     2275.12   \n",
       "67  2017         0.0185    24.97           33.31        0.0258     2789.80   \n",
       "68  2018         0.0209    19.60           28.38        0.0271     2607.39   \n",
       "69  2019         0.0181    24.47           31.31        0.0183     3265.38   \n",
       "\n",
       "    annual_return  \n",
       "0             NaN  \n",
       "1        0.140500  \n",
       "2        0.082265  \n",
       "3       -0.027502  \n",
       "4        0.398272  \n",
       "..            ...  \n",
       "65      -0.054029  \n",
       "66       0.185823  \n",
       "67       0.226221  \n",
       "68      -0.065385  \n",
       "69       0.252356  \n",
       "\n",
       "[70 rows x 7 columns]"
      ]
     },
     "execution_count": 2,
     "metadata": {},
     "output_type": "execute_result"
    }
   ],
   "source": [
    "df = pd.read_csv('../Data/SP500_data.csv')\n",
    "df"
   ]
  },
  {
   "cell_type": "markdown",
   "metadata": {},
   "source": [
    "\n"
   ]
  },
  {
   "cell_type": "markdown",
   "metadata": {},
   "source": [
    "Select 3 columns that we're interested from the dataframe 'df'.\n",
    "To make a dataframe, use two square brackets."
   ]
  },
  {
   "cell_type": "code",
   "execution_count": 9,
   "metadata": {},
   "outputs": [
    {
     "data": {
      "text/html": [
       "<div>\n",
       "<style scoped>\n",
       "    .dataframe tbody tr th:only-of-type {\n",
       "        vertical-align: middle;\n",
       "    }\n",
       "\n",
       "    .dataframe tbody tr th {\n",
       "        vertical-align: top;\n",
       "    }\n",
       "\n",
       "    .dataframe thead th {\n",
       "        text-align: right;\n",
       "    }\n",
       "</style>\n",
       "<table border=\"1\" class=\"dataframe\">\n",
       "  <thead>\n",
       "    <tr style=\"text-align: right;\">\n",
       "      <th></th>\n",
       "      <th>year</th>\n",
       "      <th>annual_return</th>\n",
       "      <th>dividendYield</th>\n",
       "    </tr>\n",
       "  </thead>\n",
       "  <tbody>\n",
       "    <tr>\n",
       "      <th>0</th>\n",
       "      <td>1950</td>\n",
       "      <td>NaN</td>\n",
       "      <td>0.0744</td>\n",
       "    </tr>\n",
       "    <tr>\n",
       "      <th>1</th>\n",
       "      <td>1951</td>\n",
       "      <td>0.140500</td>\n",
       "      <td>0.0602</td>\n",
       "    </tr>\n",
       "    <tr>\n",
       "      <th>2</th>\n",
       "      <td>1952</td>\n",
       "      <td>0.082265</td>\n",
       "      <td>0.0541</td>\n",
       "    </tr>\n",
       "    <tr>\n",
       "      <th>3</th>\n",
       "      <td>1953</td>\n",
       "      <td>-0.027502</td>\n",
       "      <td>0.0584</td>\n",
       "    </tr>\n",
       "    <tr>\n",
       "      <th>4</th>\n",
       "      <td>1954</td>\n",
       "      <td>0.398272</td>\n",
       "      <td>0.0440</td>\n",
       "    </tr>\n",
       "    <tr>\n",
       "      <th>...</th>\n",
       "      <td>...</td>\n",
       "      <td>...</td>\n",
       "      <td>...</td>\n",
       "    </tr>\n",
       "    <tr>\n",
       "      <th>65</th>\n",
       "      <td>2015</td>\n",
       "      <td>-0.054029</td>\n",
       "      <td>0.0211</td>\n",
       "    </tr>\n",
       "    <tr>\n",
       "      <th>66</th>\n",
       "      <td>2016</td>\n",
       "      <td>0.185823</td>\n",
       "      <td>0.0203</td>\n",
       "    </tr>\n",
       "    <tr>\n",
       "      <th>67</th>\n",
       "      <td>2017</td>\n",
       "      <td>0.226221</td>\n",
       "      <td>0.0185</td>\n",
       "    </tr>\n",
       "    <tr>\n",
       "      <th>68</th>\n",
       "      <td>2018</td>\n",
       "      <td>-0.065385</td>\n",
       "      <td>0.0209</td>\n",
       "    </tr>\n",
       "    <tr>\n",
       "      <th>69</th>\n",
       "      <td>2019</td>\n",
       "      <td>0.252356</td>\n",
       "      <td>0.0181</td>\n",
       "    </tr>\n",
       "  </tbody>\n",
       "</table>\n",
       "<p>70 rows × 3 columns</p>\n",
       "</div>"
      ],
      "text/plain": [
       "    year  annual_return  dividendYield\n",
       "0   1950            NaN         0.0744\n",
       "1   1951       0.140500         0.0602\n",
       "2   1952       0.082265         0.0541\n",
       "3   1953      -0.027502         0.0584\n",
       "4   1954       0.398272         0.0440\n",
       "..   ...            ...            ...\n",
       "65  2015      -0.054029         0.0211\n",
       "66  2016       0.185823         0.0203\n",
       "67  2017       0.226221         0.0185\n",
       "68  2018      -0.065385         0.0209\n",
       "69  2019       0.252356         0.0181\n",
       "\n",
       "[70 rows x 3 columns]"
      ]
     },
     "execution_count": 9,
     "metadata": {},
     "output_type": "execute_result"
    }
   ],
   "source": [
    "df = df[['year','annual_return','dividendYield']]\n",
    "df"
   ]
  },
  {
   "cell_type": "markdown",
   "metadata": {},
   "source": [
    "The `describe()` method calculates all the descriptive statistics and quartiles at once and returns the result as dataframe. "
   ]
  },
  {
   "cell_type": "code",
   "execution_count": 6,
   "metadata": {},
   "outputs": [
    {
     "data": {
      "text/html": [
       "<div>\n",
       "<style scoped>\n",
       "    .dataframe tbody tr th:only-of-type {\n",
       "        vertical-align: middle;\n",
       "    }\n",
       "\n",
       "    .dataframe tbody tr th {\n",
       "        vertical-align: top;\n",
       "    }\n",
       "\n",
       "    .dataframe thead th {\n",
       "        text-align: right;\n",
       "    }\n",
       "</style>\n",
       "<table border=\"1\" class=\"dataframe\">\n",
       "  <thead>\n",
       "    <tr style=\"text-align: right;\">\n",
       "      <th></th>\n",
       "      <th>annual_return</th>\n",
       "      <th>dividendYield</th>\n",
       "    </tr>\n",
       "  </thead>\n",
       "  <tbody>\n",
       "    <tr>\n",
       "      <th>count</th>\n",
       "      <td>69.000000</td>\n",
       "      <td>70.000000</td>\n",
       "    </tr>\n",
       "    <tr>\n",
       "      <th>mean</th>\n",
       "      <td>0.087539</td>\n",
       "      <td>0.031957</td>\n",
       "    </tr>\n",
       "    <tr>\n",
       "      <th>std</th>\n",
       "      <td>0.155873</td>\n",
       "      <td>0.013357</td>\n",
       "    </tr>\n",
       "    <tr>\n",
       "      <th>min</th>\n",
       "      <td>-0.372204</td>\n",
       "      <td>0.011700</td>\n",
       "    </tr>\n",
       "    <tr>\n",
       "      <th>25%</th>\n",
       "      <td>-0.027502</td>\n",
       "      <td>0.020225</td>\n",
       "    </tr>\n",
       "    <tr>\n",
       "      <th>50%</th>\n",
       "      <td>0.104931</td>\n",
       "      <td>0.031000</td>\n",
       "    </tr>\n",
       "    <tr>\n",
       "      <th>75%</th>\n",
       "      <td>0.199279</td>\n",
       "      <td>0.037950</td>\n",
       "    </tr>\n",
       "    <tr>\n",
       "      <th>max</th>\n",
       "      <td>0.398272</td>\n",
       "      <td>0.074400</td>\n",
       "    </tr>\n",
       "  </tbody>\n",
       "</table>\n",
       "</div>"
      ],
      "text/plain": [
       "       annual_return  dividendYield\n",
       "count      69.000000      70.000000\n",
       "mean        0.087539       0.031957\n",
       "std         0.155873       0.013357\n",
       "min        -0.372204       0.011700\n",
       "25%        -0.027502       0.020225\n",
       "50%         0.104931       0.031000\n",
       "75%         0.199279       0.037950\n",
       "max         0.398272       0.074400"
      ]
     },
     "execution_count": 6,
     "metadata": {},
     "output_type": "execute_result"
    }
   ],
   "source": [
    "df[['annual_return', 'dividendYield']].describe()"
   ]
  },
  {
   "cell_type": "markdown",
   "metadata": {},
   "source": [
    "you can use 'loc' method to access a group of rows and columns by label(s) or a boolean array"
   ]
  },
  {
   "cell_type": "code",
   "execution_count": 10,
   "metadata": {},
   "outputs": [
    {
     "data": {
      "text/plain": [
       "count    50.000000\n",
       "mean      0.163425\n",
       "std       0.096976\n",
       "min       0.014003\n",
       "25%       0.084393\n",
       "50%       0.141571\n",
       "75%       0.237874\n",
       "max       0.398272\n",
       "Name: annual_return, dtype: float64"
      ]
     },
     "execution_count": 10,
     "metadata": {},
     "output_type": "execute_result"
    }
   ],
   "source": [
    "df.loc[df['annual_return'] > 0]['annual_return'].describe()"
   ]
  },
  {
   "cell_type": "code",
   "execution_count": 11,
   "metadata": {},
   "outputs": [
    {
     "data": {
      "text/plain": [
       "count    19.000000\n",
       "mean     -0.112162\n",
       "std       0.089963\n",
       "min      -0.372204\n",
       "25%      -0.138426\n",
       "50%      -0.094871\n",
       "75%      -0.053479\n",
       "max      -0.016364\n",
       "Name: annual_return, dtype: float64"
      ]
     },
     "execution_count": 11,
     "metadata": {},
     "output_type": "execute_result"
    }
   ],
   "source": [
    "df.loc[df['annual_return'] < 0]['annual_return'].describe()"
   ]
  },
  {
   "cell_type": "markdown",
   "metadata": {},
   "source": [
    "\n"
   ]
  },
  {
   "cell_type": "markdown",
   "metadata": {},
   "source": [
    "The `plot()` method from pandas provides a number of plot styles other than the default line plot. These styles can be provided using the `kind` keyword argument to plot(). It can be ‘bar’, ‘hist', ‘box’, ‘kde’ or ‘density’, ‘area’, ‘scatter’, ‘pie’ and so forth."
   ]
  },
  {
   "cell_type": "code",
   "execution_count": 12,
   "metadata": {},
   "outputs": [
    {
     "data": {
      "text/plain": [
       "<matplotlib.axes._subplots.AxesSubplot at 0x232afa1c6a0>"
      ]
     },
     "execution_count": 12,
     "metadata": {},
     "output_type": "execute_result"
    },
    {
     "data": {
      "image/png": "[encoded data removed]",
      "text/plain": [
       "<Figure size 864x504 with 1 Axes>"
      ]
     },
     "metadata": {
      "needs_background": "light"
     },
     "output_type": "display_data"
    }
   ],
   "source": [
    "df['annual_return'].plot(kind = 'hist', figsize = (12, 7), title = 'S&P500 Annual Return Histogram')"
   ]
  },
  {
   "cell_type": "markdown",
   "metadata": {},
   "source": [
    "\n"
   ]
  },
  {
   "cell_type": "markdown",
   "metadata": {},
   "source": [
    "Drawing a QQ plot using 'qqplot()' from statsmodel.\n"
   ]
  },
  {
   "cell_type": "code",
   "execution_count": 8,
   "metadata": {},
   "outputs": [
    {
     "data": {
      "text/plain": [
       "[Text(0.5, 0, 'Normal Scores'), Text(0, 0.5, 'S&P500 Annual Return')]"
      ]
     },
     "execution_count": 8,
     "metadata": {},
     "output_type": "execute_result"
    },
    {
     "data": {
      "image/png": "[encoded data removed]",
      "text/plain": [
       "<Figure size 504x864 with 1 Axes>"
      ]
     },
     "metadata": {
      "needs_background": "light"
     },
     "output_type": "display_data"
    }
   ],
   "source": [
    "fig, ax = plt.subplots(figsize = (7, 12))\n",
    "fig = sm.qqplot(df['annual_return'], line = 'q', ax = ax)\n",
    "ax.set_title('S&P500 annual return normal probability plot')\n",
    "ax.set(xlabel=\"Normal Scores\", ylabel=\"S&P500 Annual Return\")"
   ]
  },
  {
   "cell_type": "markdown",
   "metadata": {},
   "source": [
    "\n"
   ]
  },
  {
   "cell_type": "markdown",
   "metadata": {},
   "source": [
    "Shift annual_return for linear regerssion"
   ]
  },
  {
   "cell_type": "code",
   "execution_count": 14,
   "metadata": {
    "scrolled": false
   },
   "outputs": [
    {
     "data": {
      "text/html": [
       "<div>\n",
       "<style scoped>\n",
       "    .dataframe tbody tr th:only-of-type {\n",
       "        vertical-align: middle;\n",
       "    }\n",
       "\n",
       "    .dataframe tbody tr th {\n",
       "        vertical-align: top;\n",
       "    }\n",
       "\n",
       "    .dataframe thead th {\n",
       "        text-align: right;\n",
       "    }\n",
       "</style>\n",
       "<table border=\"1\" class=\"dataframe\">\n",
       "  <thead>\n",
       "    <tr style=\"text-align: right;\">\n",
       "      <th></th>\n",
       "      <th>year</th>\n",
       "      <th>annual_return</th>\n",
       "      <th>dividendYield</th>\n",
       "    </tr>\n",
       "  </thead>\n",
       "  <tbody>\n",
       "    <tr>\n",
       "      <th>0</th>\n",
       "      <td>1950</td>\n",
       "      <td>0.140500</td>\n",
       "      <td>0.0744</td>\n",
       "    </tr>\n",
       "    <tr>\n",
       "      <th>1</th>\n",
       "      <td>1951</td>\n",
       "      <td>0.082265</td>\n",
       "      <td>0.0602</td>\n",
       "    </tr>\n",
       "    <tr>\n",
       "      <th>2</th>\n",
       "      <td>1952</td>\n",
       "      <td>-0.027502</td>\n",
       "      <td>0.0541</td>\n",
       "    </tr>\n",
       "    <tr>\n",
       "      <th>3</th>\n",
       "      <td>1953</td>\n",
       "      <td>0.398272</td>\n",
       "      <td>0.0584</td>\n",
       "    </tr>\n",
       "    <tr>\n",
       "      <th>4</th>\n",
       "      <td>1954</td>\n",
       "      <td>0.240169</td>\n",
       "      <td>0.0440</td>\n",
       "    </tr>\n",
       "    <tr>\n",
       "      <th>...</th>\n",
       "      <td>...</td>\n",
       "      <td>...</td>\n",
       "      <td>...</td>\n",
       "    </tr>\n",
       "    <tr>\n",
       "      <th>65</th>\n",
       "      <td>2015</td>\n",
       "      <td>0.185823</td>\n",
       "      <td>0.0211</td>\n",
       "    </tr>\n",
       "    <tr>\n",
       "      <th>66</th>\n",
       "      <td>2016</td>\n",
       "      <td>0.226221</td>\n",
       "      <td>0.0203</td>\n",
       "    </tr>\n",
       "    <tr>\n",
       "      <th>67</th>\n",
       "      <td>2017</td>\n",
       "      <td>-0.065385</td>\n",
       "      <td>0.0185</td>\n",
       "    </tr>\n",
       "    <tr>\n",
       "      <th>68</th>\n",
       "      <td>2018</td>\n",
       "      <td>0.252356</td>\n",
       "      <td>0.0209</td>\n",
       "    </tr>\n",
       "    <tr>\n",
       "      <th>69</th>\n",
       "      <td>2019</td>\n",
       "      <td>NaN</td>\n",
       "      <td>0.0181</td>\n",
       "    </tr>\n",
       "  </tbody>\n",
       "</table>\n",
       "<p>70 rows × 3 columns</p>\n",
       "</div>"
      ],
      "text/plain": [
       "    year  annual_return  dividendYield\n",
       "0   1950       0.140500         0.0744\n",
       "1   1951       0.082265         0.0602\n",
       "2   1952      -0.027502         0.0541\n",
       "3   1953       0.398272         0.0584\n",
       "4   1954       0.240169         0.0440\n",
       "..   ...            ...            ...\n",
       "65  2015       0.185823         0.0211\n",
       "66  2016       0.226221         0.0203\n",
       "67  2017      -0.065385         0.0185\n",
       "68  2018       0.252356         0.0209\n",
       "69  2019            NaN         0.0181\n",
       "\n",
       "[70 rows x 3 columns]"
      ]
     },
     "execution_count": 14,
     "metadata": {},
     "output_type": "execute_result"
    }
   ],
   "source": [
    "return_shifted = df.copy()\n",
    "return_shifted['annual_return'] = return_shifted['annual_return'].shift(-1)\n",
    "return_shifted"
   ]
  },
  {
   "cell_type": "markdown",
   "metadata": {},
   "source": [
    "\n"
   ]
  },
  {
   "cell_type": "markdown",
   "metadata": {},
   "source": [
    "To construct a linear regression model, we use `ols` class from statsmodel libarary. The `fit()` method from `ols` class will produce the parameter estimates. We give the formula as the first argument. On the left of `~` in the formula is the dependent variable, on the right is the independent variable. You can check the result by calling summary() or summary2() method."
   ]
  },
  {
   "cell_type": "code",
   "execution_count": 15,
   "metadata": {
    "scrolled": true
   },
   "outputs": [
    {
     "data": {
      "text/html": [
       "<table class=\"simpletable\">\n",
       "<caption>OLS Regression Results</caption>\n",
       "<tr>\n",
       "  <th>Dep. Variable:</th>      <td>annual_return</td>  <th>  R-squared:         </th> <td>   0.057</td>\n",
       "</tr>\n",
       "<tr>\n",
       "  <th>Model:</th>                   <td>OLS</td>       <th>  Adj. R-squared:    </th> <td>   0.043</td>\n",
       "</tr>\n",
       "<tr>\n",
       "  <th>Method:</th>             <td>Least Squares</td>  <th>  F-statistic:       </th> <td>   4.086</td>\n",
       "</tr>\n",
       "<tr>\n",
       "  <th>Date:</th>             <td>Sat, 13 Mar 2021</td> <th>  Prob (F-statistic):</th>  <td>0.0472</td> \n",
       "</tr>\n",
       "<tr>\n",
       "  <th>Time:</th>                 <td>07:17:27</td>     <th>  Log-Likelihood:    </th> <td>  32.890</td>\n",
       "</tr>\n",
       "<tr>\n",
       "  <th>No. Observations:</th>      <td>    69</td>      <th>  AIC:               </th> <td>  -61.78</td>\n",
       "</tr>\n",
       "<tr>\n",
       "  <th>Df Residuals:</th>          <td>    67</td>      <th>  BIC:               </th> <td>  -57.31</td>\n",
       "</tr>\n",
       "<tr>\n",
       "  <th>Df Model:</th>              <td>     1</td>      <th>                     </th>     <td> </td>   \n",
       "</tr>\n",
       "<tr>\n",
       "  <th>Covariance Type:</th>      <td>nonrobust</td>    <th>                     </th>     <td> </td>   \n",
       "</tr>\n",
       "</table>\n",
       "<table class=\"simpletable\">\n",
       "<tr>\n",
       "        <td></td>           <th>coef</th>     <th>std err</th>      <th>t</th>      <th>P>|t|</th>  <th>[0.025</th>    <th>0.975]</th>  \n",
       "</tr>\n",
       "<tr>\n",
       "  <th>Intercept</th>     <td>   -0.0025</td> <td>    0.048</td> <td>   -0.052</td> <td> 0.959</td> <td>   -0.099</td> <td>    0.094</td>\n",
       "</tr>\n",
       "<tr>\n",
       "  <th>dividendYield</th> <td>    2.7998</td> <td>    1.385</td> <td>    2.021</td> <td> 0.047</td> <td>    0.035</td> <td>    5.564</td>\n",
       "</tr>\n",
       "</table>\n",
       "<table class=\"simpletable\">\n",
       "<tr>\n",
       "  <th>Omnibus:</th>       <td> 1.843</td> <th>  Durbin-Watson:     </th> <td>   2.043</td>\n",
       "</tr>\n",
       "<tr>\n",
       "  <th>Prob(Omnibus):</th> <td> 0.398</td> <th>  Jarque-Bera (JB):  </th> <td>   1.805</td>\n",
       "</tr>\n",
       "<tr>\n",
       "  <th>Skew:</th>          <td>-0.374</td> <th>  Prob(JB):          </th> <td>   0.406</td>\n",
       "</tr>\n",
       "<tr>\n",
       "  <th>Kurtosis:</th>      <td> 2.737</td> <th>  Cond. No.          </th> <td>    75.5</td>\n",
       "</tr>\n",
       "</table><br/><br/>Warnings:<br/>[1] Standard Errors assume that the covariance matrix of the errors is correctly specified."
      ],
      "text/plain": [
       "<class 'statsmodels.iolib.summary.Summary'>\n",
       "\"\"\"\n",
       "                            OLS Regression Results                            \n",
       "==============================================================================\n",
       "Dep. Variable:          annual_return   R-squared:                       0.057\n",
       "Model:                            OLS   Adj. R-squared:                  0.043\n",
       "Method:                 Least Squares   F-statistic:                     4.086\n",
       "Date:                Sat, 13 Mar 2021   Prob (F-statistic):             0.0472\n",
       "Time:                        07:17:27   Log-Likelihood:                 32.890\n",
       "No. Observations:                  69   AIC:                            -61.78\n",
       "Df Residuals:                      67   BIC:                            -57.31\n",
       "Df Model:                           1                                         \n",
       "Covariance Type:            nonrobust                                         \n",
       "=================================================================================\n",
       "                    coef    std err          t      P>|t|      [0.025      0.975]\n",
       "---------------------------------------------------------------------------------\n",
       "Intercept        -0.0025      0.048     -0.052      0.959      -0.099       0.094\n",
       "dividendYield     2.7998      1.385      2.021      0.047       0.035       5.564\n",
       "==============================================================================\n",
       "Omnibus:                        1.843   Durbin-Watson:                   2.043\n",
       "Prob(Omnibus):                  0.398   Jarque-Bera (JB):                1.805\n",
       "Skew:                          -0.374   Prob(JB):                        0.406\n",
       "Kurtosis:                       2.737   Cond. No.                         75.5\n",
       "==============================================================================\n",
       "\n",
       "Warnings:\n",
       "[1] Standard Errors assume that the covariance matrix of the errors is correctly specified.\n",
       "\"\"\""
      ]
     },
     "execution_count": 15,
     "metadata": {},
     "output_type": "execute_result"
    }
   ],
   "source": [
    "result = smf.ols(\"annual_return ~ dividendYield\", data = return_shifted).fit()\n",
    "result.summary()"
   ]
  },
  {
   "cell_type": "markdown",
   "metadata": {},
   "source": [
    "\n",
    "\n"
   ]
  },
  {
   "cell_type": "markdown",
   "metadata": {},
   "source": [
    "'summary()' returns a string format of summary, but 'summary2()' will return Dataframe.\n",
    "'summary2's 'table'has the regression result as tables.\n",
    "Take the second table with the regression coefficients information.\n",
    "You can choose rows you want using 'iloc'."
   ]
  },
  {
   "cell_type": "code",
   "execution_count": 18,
   "metadata": {},
   "outputs": [
    {
     "data": {
      "text/html": [
       "<table class=\"simpletable\">\n",
       "<tr>\n",
       "        <td>Model:</td>               <td>OLS</td>         <td>Adj. R-squared:</td>     <td>0.043</td> \n",
       "</tr>\n",
       "<tr>\n",
       "  <td>Dependent Variable:</td>   <td>annual_return</td>         <td>AIC:</td>         <td>-61.7809</td>\n",
       "</tr>\n",
       "<tr>\n",
       "         <td>Date:</td>        <td>2021-03-13 07:25</td>        <td>BIC:</td>         <td>-57.3127</td>\n",
       "</tr>\n",
       "<tr>\n",
       "   <td>No. Observations:</td>         <td>69</td>          <td>Log-Likelihood:</td>    <td>32.890</td> \n",
       "</tr>\n",
       "<tr>\n",
       "       <td>Df Model:</td>              <td>1</td>           <td>F-statistic:</td>       <td>4.086</td> \n",
       "</tr>\n",
       "<tr>\n",
       "     <td>Df Residuals:</td>           <td>67</td>        <td>Prob (F-statistic):</td>  <td>0.0472</td> \n",
       "</tr>\n",
       "<tr>\n",
       "      <td>R-squared:</td>            <td>0.057</td>            <td>Scale:</td>        <td>0.023242</td>\n",
       "</tr>\n",
       "</table>\n",
       "<table class=\"simpletable\">\n",
       "<tr>\n",
       "        <td></td>         <th>Coef.</th>  <th>Std.Err.</th>    <th>t</th>     <th>P>|t|</th> <th>[0.025</th>  <th>0.975]</th>\n",
       "</tr>\n",
       "<tr>\n",
       "  <th>Intercept</th>     <td>-0.0025</td>  <td>0.0482</td>  <td>-0.0518</td> <td>0.9588</td> <td>-0.0986</td> <td>0.0937</td>\n",
       "</tr>\n",
       "<tr>\n",
       "  <th>dividendYield</th> <td>2.7998</td>   <td>1.3850</td>  <td>2.0215</td>  <td>0.0472</td> <td>0.0352</td>  <td>5.5643</td>\n",
       "</tr>\n",
       "</table>\n",
       "<table class=\"simpletable\">\n",
       "<tr>\n",
       "     <td>Omnibus:</td>     <td>1.843</td>  <td>Durbin-Watson:</td>   <td>2.043</td>\n",
       "</tr>\n",
       "<tr>\n",
       "  <td>Prob(Omnibus):</td>  <td>0.398</td> <td>Jarque-Bera (JB):</td> <td>1.805</td>\n",
       "</tr>\n",
       "<tr>\n",
       "       <td>Skew:</td>     <td>-0.374</td>     <td>Prob(JB):</td>     <td>0.406</td>\n",
       "</tr>\n",
       "<tr>\n",
       "     <td>Kurtosis:</td>    <td>2.737</td>  <td>Condition No.:</td>    <td>76</td>  \n",
       "</tr>\n",
       "</table>"
      ],
      "text/plain": [
       "<class 'statsmodels.iolib.summary2.Summary'>\n",
       "\"\"\"\n",
       "                 Results: Ordinary least squares\n",
       "=================================================================\n",
       "Model:              OLS              Adj. R-squared:     0.043   \n",
       "Dependent Variable: annual_return    AIC:                -61.7809\n",
       "Date:               2021-03-13 07:25 BIC:                -57.3127\n",
       "No. Observations:   69               Log-Likelihood:     32.890  \n",
       "Df Model:           1                F-statistic:        4.086   \n",
       "Df Residuals:       67               Prob (F-statistic): 0.0472  \n",
       "R-squared:          0.057            Scale:              0.023242\n",
       "------------------------------------------------------------------\n",
       "                Coef.   Std.Err.     t     P>|t|    [0.025  0.975]\n",
       "------------------------------------------------------------------\n",
       "Intercept      -0.0025    0.0482  -0.0518  0.9588  -0.0986  0.0937\n",
       "dividendYield   2.7998    1.3850   2.0215  0.0472   0.0352  5.5643\n",
       "-----------------------------------------------------------------\n",
       "Omnibus:               1.843        Durbin-Watson:          2.043\n",
       "Prob(Omnibus):         0.398        Jarque-Bera (JB):       1.805\n",
       "Skew:                  -0.374       Prob(JB):               0.406\n",
       "Kurtosis:              2.737        Condition No.:          76   \n",
       "=================================================================\n",
       "\n",
       "\"\"\""
      ]
     },
     "execution_count": 18,
     "metadata": {},
     "output_type": "execute_result"
    }
   ],
   "source": [
    "result.summary2()"
   ]
  },
  {
   "cell_type": "code",
   "execution_count": 16,
   "metadata": {},
   "outputs": [
    {
     "data": {
      "text/html": [
       "<div>\n",
       "<style scoped>\n",
       "    .dataframe tbody tr th:only-of-type {\n",
       "        vertical-align: middle;\n",
       "    }\n",
       "\n",
       "    .dataframe tbody tr th {\n",
       "        vertical-align: top;\n",
       "    }\n",
       "\n",
       "    .dataframe thead th {\n",
       "        text-align: right;\n",
       "    }\n",
       "</style>\n",
       "<table border=\"1\" class=\"dataframe\">\n",
       "  <thead>\n",
       "    <tr style=\"text-align: right;\">\n",
       "      <th></th>\n",
       "      <th>Coef.</th>\n",
       "      <th>Std.Err.</th>\n",
       "      <th>t</th>\n",
       "      <th>P&gt;|t|</th>\n",
       "      <th>[0.025</th>\n",
       "      <th>0.975]</th>\n",
       "    </tr>\n",
       "  </thead>\n",
       "  <tbody>\n",
       "    <tr>\n",
       "      <th>dividendYield</th>\n",
       "      <td>2.799775</td>\n",
       "      <td>1.385029</td>\n",
       "      <td>2.021455</td>\n",
       "      <td>0.04723</td>\n",
       "      <td>0.035245</td>\n",
       "      <td>5.564304</td>\n",
       "    </tr>\n",
       "  </tbody>\n",
       "</table>\n",
       "</div>"
      ],
      "text/plain": [
       "                  Coef.  Std.Err.         t    P>|t|    [0.025    0.975]\n",
       "dividendYield  2.799775  1.385029  2.021455  0.04723  0.035245  5.564304"
      ]
     },
     "execution_count": 16,
     "metadata": {},
     "output_type": "execute_result"
    }
   ],
   "source": [
    "table = result.summary2().tables[1].iloc[1:,]\n",
    "table"
   ]
  },
  {
   "cell_type": "markdown",
   "metadata": {},
   "source": [
    "\n",
    "\n"
   ]
  },
  {
   "cell_type": "markdown",
   "metadata": {},
   "source": [
    "The result has 'rsquared_adj' and you can add the column wih this value to the dataframe table."
   ]
  },
  {
   "cell_type": "code",
   "execution_count": 12,
   "metadata": {},
   "outputs": [
    {
     "data": {
      "text/html": [
       "<div>\n",
       "<style scoped>\n",
       "    .dataframe tbody tr th:only-of-type {\n",
       "        vertical-align: middle;\n",
       "    }\n",
       "\n",
       "    .dataframe tbody tr th {\n",
       "        vertical-align: top;\n",
       "    }\n",
       "\n",
       "    .dataframe thead th {\n",
       "        text-align: right;\n",
       "    }\n",
       "</style>\n",
       "<table border=\"1\" class=\"dataframe\">\n",
       "  <thead>\n",
       "    <tr style=\"text-align: right;\">\n",
       "      <th></th>\n",
       "      <th>Coef.</th>\n",
       "      <th>Std.Err.</th>\n",
       "      <th>t</th>\n",
       "      <th>P&gt;|t|</th>\n",
       "      <th>[0.025</th>\n",
       "      <th>0.975]</th>\n",
       "      <th>adj_rsquared</th>\n",
       "    </tr>\n",
       "  </thead>\n",
       "  <tbody>\n",
       "    <tr>\n",
       "      <th>dividendYield</th>\n",
       "      <td>2.799775</td>\n",
       "      <td>1.385029</td>\n",
       "      <td>2.021455</td>\n",
       "      <td>0.04723</td>\n",
       "      <td>0.035245</td>\n",
       "      <td>5.564304</td>\n",
       "      <td>0.043416</td>\n",
       "    </tr>\n",
       "  </tbody>\n",
       "</table>\n",
       "</div>"
      ],
      "text/plain": [
       "                  Coef.  Std.Err.         t    P>|t|    [0.025    0.975]  \\\n",
       "dividendYield  2.799775  1.385029  2.021455  0.04723  0.035245  5.564304   \n",
       "\n",
       "               adj_rsquared  \n",
       "dividendYield      0.043416  "
      ]
     },
     "execution_count": 12,
     "metadata": {},
     "output_type": "execute_result"
    }
   ],
   "source": [
    "table[\"adj_rsquared\"] =result.rsquared_adj\n",
    "table"
   ]
  }
 ],
 "metadata": {
  "kernelspec": {
   "display_name": "Python 3",
   "language": "python",
   "name": "python3"
  },
  "language_info": {
   "codemirror_mode": {
    "name": "ipython",
    "version": 3
   },
   "file_extension": ".py",
   "mimetype": "text/x-python",
   "name": "python",
   "nbconvert_exporter": "python",
   "pygments_lexer": "ipython3",
   "version": "3.8.5"
  }
 },
 "nbformat": 4,
 "nbformat_minor": 2
}
