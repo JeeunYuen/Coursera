{
 "cells": [
  {
   "cell_type": "markdown",
   "metadata": {},
   "source": [
    "We're going to use `PerformanceAnalytics` library for performance and risk analysis. (https://github.com/justthetips/PerformanceAnalytics)\n",
    "\n",
    "Use `pip` to install `PerformanceAnalytics`"
   ]
  },
  {
   "cell_type": "code",
   "execution_count": 1,
   "metadata": {
    "scrolled": false
   },
   "outputs": [
    {
     "name": "stdout",
     "output_type": "stream",
     "text": [
      "Collecting PerformanceAnalytics\n",
      "  Downloading PerformanceAnalytics-0.14-py2.py3-none-any.whl (34 kB)\n",
      "Installing collected packages: PerformanceAnalytics\n",
      "Successfully installed PerformanceAnalytics-0.14\n"
     ]
    }
   ],
   "source": [
    "!pip install PerformanceAnalytics"
   ]
  },
  {
   "cell_type": "markdown",
   "metadata": {},
   "source": [
    "Import 'performanceanalytics' library and statistics class.\n",
    "Import 'performanceanalytics' library and table.table."
   ]
  },
  {
   "cell_type": "code",
   "execution_count": 3,
   "metadata": {},
   "outputs": [],
   "source": [
    "import pandas as pd\n",
    "import matplotlib.pyplot as plt\n",
    "import seaborn as sns\n",
    "import performanceanalytics.statistics as pas\n",
    "import performanceanalytics.table.table as pat\n",
    "%matplotlib inline"
   ]
  },
  {
   "cell_type": "markdown",
   "metadata": {},
   "source": [
    "\n"
   ]
  },
  {
   "cell_type": "markdown",
   "metadata": {},
   "source": [
    "Read the return data of 7 tickers you made before."
   ]
  },
  {
   "cell_type": "code",
   "execution_count": 5,
   "metadata": {
    "scrolled": true
   },
   "outputs": [
    {
     "data": {
      "text/html": [
       "<div>\n",
       "<style scoped>\n",
       "    .dataframe tbody tr th:only-of-type {\n",
       "        vertical-align: middle;\n",
       "    }\n",
       "\n",
       "    .dataframe tbody tr th {\n",
       "        vertical-align: top;\n",
       "    }\n",
       "\n",
       "    .dataframe thead th {\n",
       "        text-align: right;\n",
       "    }\n",
       "</style>\n",
       "<table border=\"1\" class=\"dataframe\">\n",
       "  <thead>\n",
       "    <tr style=\"text-align: right;\">\n",
       "      <th></th>\n",
       "      <th>IVV</th>\n",
       "      <th>IDEV</th>\n",
       "      <th>IUSB</th>\n",
       "      <th>IEMG</th>\n",
       "      <th>IAGG</th>\n",
       "      <th>IJH</th>\n",
       "      <th>IJR</th>\n",
       "    </tr>\n",
       "    <tr>\n",
       "      <th>Date</th>\n",
       "      <th></th>\n",
       "      <th></th>\n",
       "      <th></th>\n",
       "      <th></th>\n",
       "      <th></th>\n",
       "      <th></th>\n",
       "      <th></th>\n",
       "    </tr>\n",
       "  </thead>\n",
       "  <tbody>\n",
       "    <tr>\n",
       "      <th>2017-03-28</th>\n",
       "      <td>0.007360</td>\n",
       "      <td>0.000000</td>\n",
       "      <td>-0.001586</td>\n",
       "      <td>0.001661</td>\n",
       "      <td>-0.000677</td>\n",
       "      <td>0.007599</td>\n",
       "      <td>0.007973</td>\n",
       "    </tr>\n",
       "    <tr>\n",
       "      <th>2017-03-29</th>\n",
       "      <td>0.001478</td>\n",
       "      <td>0.005694</td>\n",
       "      <td>0.003773</td>\n",
       "      <td>0.002487</td>\n",
       "      <td>0.003484</td>\n",
       "      <td>0.003594</td>\n",
       "      <td>0.002637</td>\n",
       "    </tr>\n",
       "    <tr>\n",
       "      <th>2017-03-30</th>\n",
       "      <td>0.002530</td>\n",
       "      <td>0.000000</td>\n",
       "      <td>-0.001780</td>\n",
       "      <td>-0.005375</td>\n",
       "      <td>-0.000579</td>\n",
       "      <td>0.004873</td>\n",
       "      <td>0.008473</td>\n",
       "    </tr>\n",
       "    <tr>\n",
       "      <th>2017-03-31</th>\n",
       "      <td>-0.001935</td>\n",
       "      <td>-0.002343</td>\n",
       "      <td>0.001189</td>\n",
       "      <td>-0.006651</td>\n",
       "      <td>-0.000386</td>\n",
       "      <td>0.000351</td>\n",
       "      <td>0.001884</td>\n",
       "    </tr>\n",
       "    <tr>\n",
       "      <th>2017-04-03</th>\n",
       "      <td>-0.001686</td>\n",
       "      <td>-0.006184</td>\n",
       "      <td>0.002480</td>\n",
       "      <td>0.006487</td>\n",
       "      <td>0.002862</td>\n",
       "      <td>-0.005198</td>\n",
       "      <td>-0.018363</td>\n",
       "    </tr>\n",
       "    <tr>\n",
       "      <th>...</th>\n",
       "      <td>...</td>\n",
       "      <td>...</td>\n",
       "      <td>...</td>\n",
       "      <td>...</td>\n",
       "      <td>...</td>\n",
       "      <td>...</td>\n",
       "      <td>...</td>\n",
       "    </tr>\n",
       "    <tr>\n",
       "      <th>2019-12-24</th>\n",
       "      <td>0.000124</td>\n",
       "      <td>-0.003621</td>\n",
       "      <td>0.000769</td>\n",
       "      <td>-0.001684</td>\n",
       "      <td>0.001002</td>\n",
       "      <td>-0.000097</td>\n",
       "      <td>0.002741</td>\n",
       "    </tr>\n",
       "    <tr>\n",
       "      <th>2019-12-26</th>\n",
       "      <td>0.005176</td>\n",
       "      <td>0.007096</td>\n",
       "      <td>0.000768</td>\n",
       "      <td>0.007874</td>\n",
       "      <td>-0.000728</td>\n",
       "      <td>0.002188</td>\n",
       "      <td>-0.001307</td>\n",
       "    </tr>\n",
       "    <tr>\n",
       "      <th>2019-12-27</th>\n",
       "      <td>-0.000185</td>\n",
       "      <td>0.001203</td>\n",
       "      <td>0.001536</td>\n",
       "      <td>0.004278</td>\n",
       "      <td>0.000911</td>\n",
       "      <td>-0.001649</td>\n",
       "      <td>-0.004522</td>\n",
       "    </tr>\n",
       "    <tr>\n",
       "      <th>2019-12-30</th>\n",
       "      <td>-0.005397</td>\n",
       "      <td>-0.004978</td>\n",
       "      <td>0.000192</td>\n",
       "      <td>-0.007038</td>\n",
       "      <td>-0.002184</td>\n",
       "      <td>-0.000972</td>\n",
       "      <td>-0.000598</td>\n",
       "    </tr>\n",
       "    <tr>\n",
       "      <th>2019-12-31</th>\n",
       "      <td>0.002263</td>\n",
       "      <td>0.003450</td>\n",
       "      <td>-0.001341</td>\n",
       "      <td>0.002798</td>\n",
       "      <td>-0.000730</td>\n",
       "      <td>0.000973</td>\n",
       "      <td>0.002990</td>\n",
       "    </tr>\n",
       "  </tbody>\n",
       "</table>\n",
       "<p>696 rows × 7 columns</p>\n",
       "</div>"
      ],
      "text/plain": [
       "                 IVV      IDEV      IUSB      IEMG      IAGG       IJH  \\\n",
       "Date                                                                     \n",
       "2017-03-28  0.007360  0.000000 -0.001586  0.001661 -0.000677  0.007599   \n",
       "2017-03-29  0.001478  0.005694  0.003773  0.002487  0.003484  0.003594   \n",
       "2017-03-30  0.002530  0.000000 -0.001780 -0.005375 -0.000579  0.004873   \n",
       "2017-03-31 -0.001935 -0.002343  0.001189 -0.006651 -0.000386  0.000351   \n",
       "2017-04-03 -0.001686 -0.006184  0.002480  0.006487  0.002862 -0.005198   \n",
       "...              ...       ...       ...       ...       ...       ...   \n",
       "2019-12-24  0.000124 -0.003621  0.000769 -0.001684  0.001002 -0.000097   \n",
       "2019-12-26  0.005176  0.007096  0.000768  0.007874 -0.000728  0.002188   \n",
       "2019-12-27 -0.000185  0.001203  0.001536  0.004278  0.000911 -0.001649   \n",
       "2019-12-30 -0.005397 -0.004978  0.000192 -0.007038 -0.002184 -0.000972   \n",
       "2019-12-31  0.002263  0.003450 -0.001341  0.002798 -0.000730  0.000973   \n",
       "\n",
       "                 IJR  \n",
       "Date                  \n",
       "2017-03-28  0.007973  \n",
       "2017-03-29  0.002637  \n",
       "2017-03-30  0.008473  \n",
       "2017-03-31  0.001884  \n",
       "2017-04-03 -0.018363  \n",
       "...              ...  \n",
       "2019-12-24  0.002741  \n",
       "2019-12-26 -0.001307  \n",
       "2019-12-27 -0.004522  \n",
       "2019-12-30 -0.000598  \n",
       "2019-12-31  0.002990  \n",
       "\n",
       "[696 rows x 7 columns]"
      ]
     },
     "execution_count": 5,
     "metadata": {},
     "output_type": "execute_result"
    }
   ],
   "source": [
    "returns = pd.read_csv(\"hist_return.csv\", index_col='Date', parse_dates=True).dropna()\n",
    "returns"
   ]
  },
  {
   "cell_type": "markdown",
   "metadata": {},
   "source": [
    "  "
   ]
  },
  {
   "cell_type": "markdown",
   "metadata": {},
   "source": [
    "First, we define the constants below to calculate the annual data we need. We assume 252 trading days in a year and use the square root of 252 to calculate the annualized rate from daily data. Risk-free rate is set to `0.0`."
   ]
  },
  {
   "cell_type": "code",
   "execution_count": 6,
   "metadata": {},
   "outputs": [],
   "source": [
    "ROOT_OF_252 = 252 ** 0.5\n",
    "rf = 0.0"
   ]
  },
  {
   "cell_type": "markdown",
   "metadata": {},
   "source": [
    "We use ‘apply()’ so that the lambda function we define will be applied to every column in the data frame. The lambda function applies ‘annualized_return’ to every row of the data. ‘annualized_return’  function has inputs of data, the first row of the data and the last row of the data."
   ]
  },
  {
   "cell_type": "code",
   "execution_count": 11,
   "metadata": {
    "scrolled": true
   },
   "outputs": [
    {
     "data": {
      "text/plain": [
       "IVV     0.145433\n",
       "IDEV    0.079467\n",
       "IUSB    0.042303\n",
       "IEMG    0.072623\n",
       "IAGG    0.049549\n",
       "IJH     0.091674\n",
       "IJR     0.095563\n",
       "dtype: float64"
      ]
     },
     "execution_count": 11,
     "metadata": {},
     "output_type": "execute_result"
    }
   ],
   "source": [
    "return_annualized = returns.apply(lambda x: pas.annualized_return(x, x.index[0], x.index[-1]))\n",
    "return_annualized"
   ]
  },
  {
   "cell_type": "markdown",
   "metadata": {},
   "source": [
    "We use ‘apply()’ so that the lambda function we define will be applied to every column in the data frame. The lambda function applies ‘std’ to every row of the data. "
   ]
  },
  {
   "cell_type": "code",
   "execution_count": 12,
   "metadata": {},
   "outputs": [
    {
     "data": {
      "text/plain": [
       "IVV     0.132034\n",
       "IDEV    0.115719\n",
       "IUSB    0.026142\n",
       "IEMG    0.164119\n",
       "IAGG    0.033415\n",
       "IJH     0.139173\n",
       "IJR     0.157138\n",
       "dtype: float64"
      ]
     },
     "execution_count": 12,
     "metadata": {},
     "output_type": "execute_result"
    }
   ],
   "source": [
    "return_std = returns.apply(lambda x: ROOT_OF_252 * x.std())\n",
    "return_std"
   ]
  },
  {
   "cell_type": "code",
   "execution_count": 13,
   "metadata": {
    "scrolled": true
   },
   "outputs": [
    {
     "data": {
      "text/plain": [
       "IVV     1.093991\n",
       "IDEV    0.718316\n",
       "IUSB    1.596859\n",
       "IEMG    0.509028\n",
       "IAGG    1.462932\n",
       "IJH     0.699529\n",
       "IJR     0.659109\n",
       "dtype: float64"
      ]
     },
     "execution_count": 13,
     "metadata": {},
     "output_type": "execute_result"
    }
   ],
   "source": [
    "sharpe = returns.apply(lambda x: ROOT_OF_252 * (x - rf).mean() / x.std())\n",
    "sharpe"
   ]
  },
  {
   "cell_type": "markdown",
   "metadata": {},
   "source": [
    "Make a table using the above data. "
   ]
  },
  {
   "cell_type": "code",
   "execution_count": 14,
   "metadata": {
    "scrolled": true
   },
   "outputs": [
    {
     "data": {
      "text/html": [
       "<div>\n",
       "<style scoped>\n",
       "    .dataframe tbody tr th:only-of-type {\n",
       "        vertical-align: middle;\n",
       "    }\n",
       "\n",
       "    .dataframe tbody tr th {\n",
       "        vertical-align: top;\n",
       "    }\n",
       "\n",
       "    .dataframe thead th {\n",
       "        text-align: right;\n",
       "    }\n",
       "</style>\n",
       "<table border=\"1\" class=\"dataframe\">\n",
       "  <thead>\n",
       "    <tr style=\"text-align: right;\">\n",
       "      <th></th>\n",
       "      <th>IVV</th>\n",
       "      <th>IDEV</th>\n",
       "      <th>IUSB</th>\n",
       "      <th>IEMG</th>\n",
       "      <th>IAGG</th>\n",
       "      <th>IJH</th>\n",
       "      <th>IJR</th>\n",
       "    </tr>\n",
       "  </thead>\n",
       "  <tbody>\n",
       "    <tr>\n",
       "      <th>Annualized_return</th>\n",
       "      <td>0.145433</td>\n",
       "      <td>0.079467</td>\n",
       "      <td>0.042303</td>\n",
       "      <td>0.072623</td>\n",
       "      <td>0.049549</td>\n",
       "      <td>0.091674</td>\n",
       "      <td>0.095563</td>\n",
       "    </tr>\n",
       "    <tr>\n",
       "      <th>Annualized_std_dev</th>\n",
       "      <td>0.132034</td>\n",
       "      <td>0.115719</td>\n",
       "      <td>0.026142</td>\n",
       "      <td>0.164119</td>\n",
       "      <td>0.033415</td>\n",
       "      <td>0.139173</td>\n",
       "      <td>0.157138</td>\n",
       "    </tr>\n",
       "    <tr>\n",
       "      <th>Annualized_Sharpe (Rf = 0.0)</th>\n",
       "      <td>1.093991</td>\n",
       "      <td>0.718316</td>\n",
       "      <td>1.596859</td>\n",
       "      <td>0.509028</td>\n",
       "      <td>1.462932</td>\n",
       "      <td>0.699529</td>\n",
       "      <td>0.659109</td>\n",
       "    </tr>\n",
       "  </tbody>\n",
       "</table>\n",
       "</div>"
      ],
      "text/plain": [
       "                                   IVV      IDEV      IUSB      IEMG  \\\n",
       "Annualized_return             0.145433  0.079467  0.042303  0.072623   \n",
       "Annualized_std_dev            0.132034  0.115719  0.026142  0.164119   \n",
       "Annualized_Sharpe (Rf = 0.0)  1.093991  0.718316  1.596859  0.509028   \n",
       "\n",
       "                                  IAGG       IJH       IJR  \n",
       "Annualized_return             0.049549  0.091674  0.095563  \n",
       "Annualized_std_dev            0.033415  0.139173  0.157138  \n",
       "Annualized_Sharpe (Rf = 0.0)  1.462932  0.699529  0.659109  "
      ]
     },
     "execution_count": 14,
     "metadata": {},
     "output_type": "execute_result"
    }
   ],
   "source": [
    "annualized_return = pd.DataFrame({'Annualized_return': return_annualized, \n",
    "                                  'Annualized_std_dev': return_std, \n",
    "                                  \"Annualized_Sharpe (Rf = 0.0)\": sharpe}).T\n",
    "annualized_return"
   ]
  },
  {
   "cell_type": "markdown",
   "metadata": {},
   "source": [
    "\n"
   ]
  },
  {
   "cell_type": "markdown",
   "metadata": {},
   "source": [
    "`drawdown_table()` method will return the drawdown data as below."
   ]
  },
  {
   "cell_type": "code",
   "execution_count": 15,
   "metadata": {},
   "outputs": [
    {
     "data": {
      "text/html": [
       "<div>\n",
       "<style scoped>\n",
       "    .dataframe tbody tr th:only-of-type {\n",
       "        vertical-align: middle;\n",
       "    }\n",
       "\n",
       "    .dataframe tbody tr th {\n",
       "        vertical-align: top;\n",
       "    }\n",
       "\n",
       "    .dataframe thead th {\n",
       "        text-align: right;\n",
       "    }\n",
       "</style>\n",
       "<table border=\"1\" class=\"dataframe\">\n",
       "  <thead>\n",
       "    <tr style=\"text-align: right;\">\n",
       "      <th></th>\n",
       "      <th>From</th>\n",
       "      <th>Trough</th>\n",
       "      <th>End</th>\n",
       "      <th>Depth</th>\n",
       "      <th>Length</th>\n",
       "      <th>To Trough</th>\n",
       "      <th>Recovery</th>\n",
       "    </tr>\n",
       "  </thead>\n",
       "  <tbody>\n",
       "    <tr>\n",
       "      <th>0</th>\n",
       "      <td>2018-09-21</td>\n",
       "      <td>2018-12-24</td>\n",
       "      <td>2019-04-12</td>\n",
       "      <td>-0.193841</td>\n",
       "      <td>203</td>\n",
       "      <td>94</td>\n",
       "      <td>109</td>\n",
       "    </tr>\n",
       "    <tr>\n",
       "      <th>1</th>\n",
       "      <td>2018-01-29</td>\n",
       "      <td>2018-02-08</td>\n",
       "      <td>2018-07-25</td>\n",
       "      <td>-0.100603</td>\n",
       "      <td>177</td>\n",
       "      <td>10</td>\n",
       "      <td>167</td>\n",
       "    </tr>\n",
       "    <tr>\n",
       "      <th>2</th>\n",
       "      <td>2019-05-06</td>\n",
       "      <td>2019-06-03</td>\n",
       "      <td>2019-06-20</td>\n",
       "      <td>-0.066315</td>\n",
       "      <td>45</td>\n",
       "      <td>28</td>\n",
       "      <td>17</td>\n",
       "    </tr>\n",
       "    <tr>\n",
       "      <th>3</th>\n",
       "      <td>2019-07-29</td>\n",
       "      <td>2019-08-05</td>\n",
       "      <td>2019-10-25</td>\n",
       "      <td>-0.059914</td>\n",
       "      <td>88</td>\n",
       "      <td>7</td>\n",
       "      <td>81</td>\n",
       "    </tr>\n",
       "    <tr>\n",
       "      <th>4</th>\n",
       "      <td>2017-08-08</td>\n",
       "      <td>2017-08-18</td>\n",
       "      <td>2017-09-01</td>\n",
       "      <td>-0.021121</td>\n",
       "      <td>24</td>\n",
       "      <td>10</td>\n",
       "      <td>14</td>\n",
       "    </tr>\n",
       "  </tbody>\n",
       "</table>\n",
       "</div>"
      ],
      "text/plain": [
       "        From     Trough        End     Depth  Length  To Trough  Recovery\n",
       "0 2018-09-21 2018-12-24 2019-04-12 -0.193841     203         94       109\n",
       "1 2018-01-29 2018-02-08 2018-07-25 -0.100603     177         10       167\n",
       "2 2019-05-06 2019-06-03 2019-06-20 -0.066315      45         28        17\n",
       "3 2019-07-29 2019-08-05 2019-10-25 -0.059914      88          7        81\n",
       "4 2017-08-08 2017-08-18 2017-09-01 -0.021121      24         10        14"
      ]
     },
     "execution_count": 15,
     "metadata": {},
     "output_type": "execute_result"
    }
   ],
   "source": [
    "table_drawdown = pat.drawdown_table(returns[\"IVV\"])\n",
    "table_drawdown"
   ]
  },
  {
   "cell_type": "markdown",
   "metadata": {},
   "source": [
    "  "
   ]
  },
  {
   "cell_type": "markdown",
   "metadata": {},
   "source": [
    "Install the library `QuantStats` to draw a performance chart."
   ]
  },
  {
   "cell_type": "code",
   "execution_count": 16,
   "metadata": {},
   "outputs": [
    {
     "name": "stdout",
     "output_type": "stream",
     "text": [
      "Collecting QuantStats\n",
      "  Downloading QuantStats-0.0.26.tar.gz (31 kB)\n",
      "Requirement already satisfied: pandas>=0.24.0 in c:\\users\\user\\anaconda3\\lib\\site-packages (from QuantStats) (1.0.5)\n",
      "Requirement already satisfied: numpy>=1.15.0 in c:\\users\\user\\anaconda3\\lib\\site-packages (from QuantStats) (1.18.5)\n",
      "Requirement already satisfied: scipy>=1.2.0 in c:\\users\\user\\anaconda3\\lib\\site-packages (from QuantStats) (1.5.0)\n",
      "Requirement already satisfied: matplotlib>=3.0.0 in c:\\users\\user\\anaconda3\\lib\\site-packages (from QuantStats) (3.2.2)\n",
      "Requirement already satisfied: seaborn>=0.9.0 in c:\\users\\user\\anaconda3\\lib\\site-packages (from QuantStats) (0.10.1)\n",
      "Collecting tabulate>=0.8.0\n",
      "  Downloading tabulate-0.8.9-py3-none-any.whl (25 kB)\n",
      "Requirement already satisfied: yfinance>=0.1.44 in c:\\users\\user\\anaconda3\\lib\\site-packages (from QuantStats) (0.1.55)\n",
      "Requirement already satisfied: pytz>=2017.2 in c:\\users\\user\\anaconda3\\lib\\site-packages (from pandas>=0.24.0->QuantStats) (2020.1)\n",
      "Requirement already satisfied: python-dateutil>=2.6.1 in c:\\users\\user\\anaconda3\\lib\\site-packages (from pandas>=0.24.0->QuantStats) (2.8.1)\n",
      "Requirement already satisfied: cycler>=0.10 in c:\\users\\user\\anaconda3\\lib\\site-packages (from matplotlib>=3.0.0->QuantStats) (0.10.0)\n",
      "Requirement already satisfied: kiwisolver>=1.0.1 in c:\\users\\user\\anaconda3\\lib\\site-packages (from matplotlib>=3.0.0->QuantStats) (1.2.0)\n",
      "Requirement already satisfied: pyparsing!=2.0.4,!=2.1.2,!=2.1.6,>=2.0.1 in c:\\users\\user\\anaconda3\\lib\\site-packages (from matplotlib>=3.0.0->QuantStats) (2.4.7)\n",
      "Requirement already satisfied: requests>=2.20 in c:\\users\\user\\anaconda3\\lib\\site-packages (from yfinance>=0.1.44->QuantStats) (2.24.0)\n",
      "Requirement already satisfied: lxml>=4.5.1 in c:\\users\\user\\anaconda3\\lib\\site-packages (from yfinance>=0.1.44->QuantStats) (4.5.2)\n",
      "Requirement already satisfied: multitasking>=0.0.7 in c:\\users\\user\\anaconda3\\lib\\site-packages (from yfinance>=0.1.44->QuantStats) (0.0.9)\n",
      "Requirement already satisfied: six>=1.5 in c:\\users\\user\\anaconda3\\lib\\site-packages (from python-dateutil>=2.6.1->pandas>=0.24.0->QuantStats) (1.15.0)\n",
      "Requirement already satisfied: idna<3,>=2.5 in c:\\users\\user\\anaconda3\\lib\\site-packages (from requests>=2.20->yfinance>=0.1.44->QuantStats) (2.10)\n",
      "Requirement already satisfied: chardet<4,>=3.0.2 in c:\\users\\user\\anaconda3\\lib\\site-packages (from requests>=2.20->yfinance>=0.1.44->QuantStats) (3.0.4)\n",
      "Requirement already satisfied: urllib3!=1.25.0,!=1.25.1,<1.26,>=1.21.1 in c:\\users\\user\\anaconda3\\lib\\site-packages (from requests>=2.20->yfinance>=0.1.44->QuantStats) (1.25.9)\n",
      "Requirement already satisfied: certifi>=2017.4.17 in c:\\users\\user\\anaconda3\\lib\\site-packages (from requests>=2.20->yfinance>=0.1.44->QuantStats) (2020.6.20)\n",
      "Building wheels for collected packages: QuantStats\n",
      "  Building wheel for QuantStats (setup.py): started\n",
      "  Building wheel for QuantStats (setup.py): finished with status 'done'\n",
      "  Created wheel for QuantStats: filename=QuantStats-0.0.26-py2.py3-none-any.whl size=36984 sha256=c2dd4ab8d998c80218ff2b8ec53adf42b0ccf436b9af9f857c116b3d87d631af\n",
      "  Stored in directory: c:\\users\\user\\appdata\\local\\pip\\cache\\wheels\\ec\\04\\91\\7a7529974a1ff01422f1472258025ecb03c46731bd1bc5fe44\n",
      "Successfully built QuantStats\n",
      "Installing collected packages: tabulate, QuantStats\n",
      "Successfully installed QuantStats-0.0.26 tabulate-0.8.9\n"
     ]
    }
   ],
   "source": [
    "!pip install QuantStats"
   ]
  },
  {
   "cell_type": "markdown",
   "metadata": {},
   "source": [
    "Import quantstats library"
   ]
  },
  {
   "cell_type": "code",
   "execution_count": 17,
   "metadata": {},
   "outputs": [],
   "source": [
    "import quantstats as qs"
   ]
  },
  {
   "cell_type": "markdown",
   "metadata": {},
   "source": [
    "quantstats has 'plots' and 'snapshot' method which draw cumulative return, draw down and daily returns in the same graph. The input is the return data. "
   ]
  },
  {
   "cell_type": "code",
   "execution_count": 18,
   "metadata": {
    "scrolled": false
   },
   "outputs": [
    {
     "data": {
      "image/png": "[encoded data removed]",
      "text/plain": [
       "<Figure size 720x576 with 3 Axes>"
      ]
     },
     "metadata": {},
     "output_type": "display_data"
    }
   ],
   "source": [
    "qs.plots.snapshot(returns['IVV'], title='IVV Performance')"
   ]
  },
  {
   "cell_type": "markdown",
   "metadata": {},
   "source": [
    "'stats_table' of performanceanalytics gives the summary statistics. "
   ]
  },
  {
   "cell_type": "markdown",
   "metadata": {},
   "source": [
    " "
   ]
  },
  {
   "cell_type": "code",
   "execution_count": 19,
   "metadata": {
    "scrolled": true
   },
   "outputs": [
    {
     "data": {
      "text/html": [
       "<div>\n",
       "<style scoped>\n",
       "    .dataframe tbody tr th:only-of-type {\n",
       "        vertical-align: middle;\n",
       "    }\n",
       "\n",
       "    .dataframe tbody tr th {\n",
       "        vertical-align: top;\n",
       "    }\n",
       "\n",
       "    .dataframe thead th {\n",
       "        text-align: right;\n",
       "    }\n",
       "</style>\n",
       "<table border=\"1\" class=\"dataframe\">\n",
       "  <thead>\n",
       "    <tr style=\"text-align: right;\">\n",
       "      <th></th>\n",
       "      <th>IVV</th>\n",
       "    </tr>\n",
       "  </thead>\n",
       "  <tbody>\n",
       "    <tr>\n",
       "      <th>Observations</th>\n",
       "      <td>696.000000</td>\n",
       "    </tr>\n",
       "    <tr>\n",
       "      <th>NAs</th>\n",
       "      <td>0.000000</td>\n",
       "    </tr>\n",
       "    <tr>\n",
       "      <th>Minimum</th>\n",
       "      <td>-0.041365</td>\n",
       "    </tr>\n",
       "    <tr>\n",
       "      <th>Quartile 1</th>\n",
       "      <td>-0.002217</td>\n",
       "    </tr>\n",
       "    <tr>\n",
       "      <th>Median</th>\n",
       "      <td>0.000674</td>\n",
       "    </tr>\n",
       "    <tr>\n",
       "      <th>Artithmetic Mean</th>\n",
       "      <td>0.000573</td>\n",
       "    </tr>\n",
       "    <tr>\n",
       "      <th>Geometric Mean</th>\n",
       "      <td>0.000539</td>\n",
       "    </tr>\n",
       "    <tr>\n",
       "      <th>Quartile 3</th>\n",
       "      <td>0.004734</td>\n",
       "    </tr>\n",
       "    <tr>\n",
       "      <th>Maximum</th>\n",
       "      <td>0.049049</td>\n",
       "    </tr>\n",
       "    <tr>\n",
       "      <th>SE Mean</th>\n",
       "      <td>0.000315</td>\n",
       "    </tr>\n",
       "    <tr>\n",
       "      <th>LCL Mean (.95)</th>\n",
       "      <td>0.000561</td>\n",
       "    </tr>\n",
       "    <tr>\n",
       "      <th>UCL Mean (.95)</th>\n",
       "      <td>0.000585</td>\n",
       "    </tr>\n",
       "    <tr>\n",
       "      <th>Variance</th>\n",
       "      <td>0.000069</td>\n",
       "    </tr>\n",
       "    <tr>\n",
       "      <th>Stdev</th>\n",
       "      <td>0.008311</td>\n",
       "    </tr>\n",
       "    <tr>\n",
       "      <th>Skewness</th>\n",
       "      <td>-0.601663</td>\n",
       "    </tr>\n",
       "    <tr>\n",
       "      <th>Kurtosis</th>\n",
       "      <td>5.012114</td>\n",
       "    </tr>\n",
       "  </tbody>\n",
       "</table>\n",
       "</div>"
      ],
      "text/plain": [
       "                         IVV\n",
       "Observations      696.000000\n",
       "NAs                 0.000000\n",
       "Minimum            -0.041365\n",
       "Quartile 1         -0.002217\n",
       "Median              0.000674\n",
       "Artithmetic Mean    0.000573\n",
       "Geometric Mean      0.000539\n",
       "Quartile 3          0.004734\n",
       "Maximum             0.049049\n",
       "SE Mean             0.000315\n",
       "LCL Mean (.95)      0.000561\n",
       "UCL Mean (.95)      0.000585\n",
       "Variance            0.000069\n",
       "Stdev               0.008311\n",
       "Skewness           -0.601663\n",
       "Kurtosis            5.012114"
      ]
     },
     "execution_count": 19,
     "metadata": {},
     "output_type": "execute_result"
    }
   ],
   "source": [
    "pat.stats_table(returns)"
   ]
  },
  {
   "cell_type": "markdown",
   "metadata": {},
   "source": [
    "quantstats's 'reports' 'metrics' give a lot more detail related to the returns."
   ]
  },
  {
   "cell_type": "code",
   "execution_count": 20,
   "metadata": {
    "scrolled": false
   },
   "outputs": [
    {
     "name": "stdout",
     "output_type": "stream",
     "text": [
      "                    Strategy\n",
      "------------------  ----------\n",
      "Start Period        2017-03-28\n",
      "End Period          2019-12-31\n",
      "Risk-Free Rate      0.0%\n",
      "Time in Market      100.0%\n",
      "\n",
      "Cumulative Return   45.46%\n",
      "CAGR%               14.53%\n",
      "Sharpe              1.09\n",
      "Sortino             1.5\n",
      "Max Drawdown        -19.38%\n",
      "Longest DD Days     203\n",
      "\n",
      "Payoff Ratio        0.95\n",
      "Profit Factor       1.23\n",
      "Common Sense Ratio  1.06\n",
      "CPC Index           0.66\n",
      "Tail Ratio          0.86\n",
      "Outlier Win Ratio   3.63\n",
      "Outlier Loss Ratio  4.53\n",
      "\n",
      "MTD                 2.93%\n",
      "3M                  9.53%\n",
      "6M                  10.92%\n",
      "YTD                 31.25%\n",
      "1Y                  32.45%\n",
      "3Y (ann.)           14.53%\n",
      "5Y (ann.)           14.53%\n",
      "10Y (ann.)          14.53%\n",
      "All-time (ann.)     14.53%\n",
      "\n",
      "Avg. Drawdown       -1.28%\n",
      "Avg. Drawdown Days  15\n",
      "Recovery Factor     2.35\n",
      "Ulcer Index         1.05\n"
     ]
    }
   ],
   "source": [
    "qs.reports.metrics(returns['IVV'])"
   ]
  },
  {
   "cell_type": "code",
   "execution_count": null,
   "metadata": {},
   "outputs": [],
   "source": []
  }
 ],
 "metadata": {
  "kernelspec": {
   "display_name": "Python 3",
   "language": "python",
   "name": "python3"
  },
  "language_info": {
   "codemirror_mode": {
    "name": "ipython",
    "version": 3
   },
   "file_extension": ".py",
   "mimetype": "text/x-python",
   "name": "python",
   "nbconvert_exporter": "python",
   "pygments_lexer": "ipython3",
   "version": "3.8.3"
  }
 },
 "nbformat": 4,
 "nbformat_minor": 2
}
