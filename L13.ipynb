{
 "cells": [
  {
   "cell_type": "markdown",
   "metadata": {},
   "source": [
    "We're going to use FinQuant library to plot an efficient frontier. It will also automatically computes the most common quantities, such as Expected annual Return, Volatility and Sharpe Ratio. (https://finquant.readthedocs.io)\n",
    "The exclamation mark ! is used for executing pip command from the underlying operating system. pip is the package installer program for Python. It allows you to install and manage additional packages.\n",
    "\n"
   ]
  },
  {
   "cell_type": "code",
   "execution_count": 1,
   "metadata": {
    "scrolled": true
   },
   "outputs": [
    {
     "name": "stdout",
     "output_type": "stream",
     "text": [
      "Requirement already satisfied: FinQuant in c:\\users\\user\\anaconda3\\lib\\site-packages (0.2.2)\n",
      "Requirement already satisfied: pytest in c:\\users\\user\\anaconda3\\lib\\site-packages (from FinQuant) (5.4.3)\n",
      "Requirement already satisfied: pandas in c:\\users\\user\\anaconda3\\lib\\site-packages (from FinQuant) (1.0.5)\n",
      "Requirement already satisfied: quandl in c:\\users\\user\\anaconda3\\lib\\site-packages (from FinQuant) (3.5.3)\n",
      "Requirement already satisfied: matplotlib in c:\\users\\user\\anaconda3\\lib\\site-packages (from FinQuant) (3.2.2)\n",
      "Requirement already satisfied: numpy in c:\\users\\user\\anaconda3\\lib\\site-packages (from FinQuant) (1.18.5)\n",
      "Requirement already satisfied: scipy in c:\\users\\user\\anaconda3\\lib\\site-packages (from FinQuant) (1.5.0)\n",
      "Requirement already satisfied: yfinance in c:\\users\\user\\anaconda3\\lib\\site-packages (from FinQuant) (0.1.55)\n",
      "Requirement already satisfied: py>=1.5.0 in c:\\users\\user\\anaconda3\\lib\\site-packages (from pytest->FinQuant) (1.9.0)\n",
      "Requirement already satisfied: packaging in c:\\users\\user\\anaconda3\\lib\\site-packages (from pytest->FinQuant) (20.4)\n",
      "Requirement already satisfied: attrs>=17.4.0 in c:\\users\\user\\anaconda3\\lib\\site-packages (from pytest->FinQuant) (19.3.0)\n",
      "Requirement already satisfied: more-itertools>=4.0.0 in c:\\users\\user\\anaconda3\\lib\\site-packages (from pytest->FinQuant) (8.4.0)\n",
      "Requirement already satisfied: pluggy<1.0,>=0.12 in c:\\users\\user\\anaconda3\\lib\\site-packages (from pytest->FinQuant) (0.13.1)\n",
      "Requirement already satisfied: wcwidth in c:\\users\\user\\anaconda3\\lib\\site-packages (from pytest->FinQuant) (0.2.5)\n",
      "Requirement already satisfied: atomicwrites>=1.0 in c:\\users\\user\\anaconda3\\lib\\site-packages (from pytest->FinQuant) (1.4.0)\n",
      "Requirement already satisfied: colorama in c:\\users\\user\\anaconda3\\lib\\site-packages (from pytest->FinQuant) (0.4.3)\n",
      "Requirement already satisfied: python-dateutil>=2.6.1 in c:\\users\\user\\anaconda3\\lib\\site-packages (from pandas->FinQuant) (2.8.1)\n",
      "Requirement already satisfied: pytz>=2017.2 in c:\\users\\user\\anaconda3\\lib\\site-packages (from pandas->FinQuant) (2020.1)\n",
      "Requirement already satisfied: six in c:\\users\\user\\anaconda3\\lib\\site-packages (from quandl->FinQuant) (1.15.0)\n",
      "Requirement already satisfied: requests>=2.7.0 in c:\\users\\user\\anaconda3\\lib\\site-packages (from quandl->FinQuant) (2.24.0)\n",
      "Requirement already satisfied: inflection>=0.3.1 in c:\\users\\user\\anaconda3\\lib\\site-packages (from quandl->FinQuant) (0.5.1)\n",
      "Requirement already satisfied: pyparsing!=2.0.4,!=2.1.2,!=2.1.6,>=2.0.1 in c:\\users\\user\\anaconda3\\lib\\site-packages (from matplotlib->FinQuant) (2.4.7)\n",
      "Requirement already satisfied: cycler>=0.10 in c:\\users\\user\\anaconda3\\lib\\site-packages (from matplotlib->FinQuant) (0.10.0)\n",
      "Requirement already satisfied: kiwisolver>=1.0.1 in c:\\users\\user\\anaconda3\\lib\\site-packages (from matplotlib->FinQuant) (1.2.0)\n",
      "Requirement already satisfied: lxml>=4.5.1 in c:\\users\\user\\anaconda3\\lib\\site-packages (from yfinance->FinQuant) (4.5.2)\n",
      "Requirement already satisfied: multitasking>=0.0.7 in c:\\users\\user\\anaconda3\\lib\\site-packages (from yfinance->FinQuant) (0.0.9)\n",
      "Requirement already satisfied: urllib3!=1.25.0,!=1.25.1,<1.26,>=1.21.1 in c:\\users\\user\\anaconda3\\lib\\site-packages (from requests>=2.7.0->quandl->FinQuant) (1.25.9)\n",
      "Requirement already satisfied: chardet<4,>=3.0.2 in c:\\users\\user\\anaconda3\\lib\\site-packages (from requests>=2.7.0->quandl->FinQuant) (3.0.4)\n",
      "Requirement already satisfied: idna<3,>=2.5 in c:\\users\\user\\anaconda3\\lib\\site-packages (from requests>=2.7.0->quandl->FinQuant) (2.10)\n",
      "Requirement already satisfied: certifi>=2017.4.17 in c:\\users\\user\\anaconda3\\lib\\site-packages (from requests>=2.7.0->quandl->FinQuant) (2020.6.20)\n"
     ]
    }
   ],
   "source": [
    "!pip install FinQuant"
   ]
  },
  {
   "cell_type": "markdown",
   "metadata": {},
   "source": [
    "Import 'finquant' library's 'portfolio' class and 'build_portfolio' module.\n",
    "Import 'finquant' library's 'efficient_frontier' class and EfficientFrontier"
   ]
  },
  {
   "cell_type": "code",
   "execution_count": 2,
   "metadata": {},
   "outputs": [],
   "source": [
    "import pandas as pd\n",
    "import matplotlib.pyplot as plt\n",
    "from finquant.portfolio import build_portfolio\n",
    "from finquant.efficient_frontier import EfficientFrontier"
   ]
  },
  {
   "cell_type": "markdown",
   "metadata": {},
   "source": [
    "\n"
   ]
  },
  {
   "cell_type": "markdown",
   "metadata": {},
   "source": [
    "Read the adjusted close price data we created from the previous exercise."
   ]
  },
  {
   "cell_type": "code",
   "execution_count": 4,
   "metadata": {},
   "outputs": [
    {
     "data": {
      "text/html": [
       "<div>\n",
       "<style scoped>\n",
       "    .dataframe tbody tr th:only-of-type {\n",
       "        vertical-align: middle;\n",
       "    }\n",
       "\n",
       "    .dataframe tbody tr th {\n",
       "        vertical-align: top;\n",
       "    }\n",
       "\n",
       "    .dataframe thead th {\n",
       "        text-align: right;\n",
       "    }\n",
       "</style>\n",
       "<table border=\"1\" class=\"dataframe\">\n",
       "  <thead>\n",
       "    <tr style=\"text-align: right;\">\n",
       "      <th></th>\n",
       "      <th>IVV</th>\n",
       "      <th>IDEV</th>\n",
       "      <th>IUSB</th>\n",
       "      <th>IEMG</th>\n",
       "      <th>IAGG</th>\n",
       "      <th>IJH</th>\n",
       "      <th>IJR</th>\n",
       "    </tr>\n",
       "    <tr>\n",
       "      <th>Date</th>\n",
       "      <th></th>\n",
       "      <th></th>\n",
       "      <th></th>\n",
       "      <th></th>\n",
       "      <th></th>\n",
       "      <th></th>\n",
       "      <th></th>\n",
       "    </tr>\n",
       "  </thead>\n",
       "  <tbody>\n",
       "    <tr>\n",
       "      <th>2014-12-31</th>\n",
       "      <td>183.877716</td>\n",
       "      <td>NaN</td>\n",
       "      <td>43.015728</td>\n",
       "      <td>40.448051</td>\n",
       "      <td>NaN</td>\n",
       "      <td>131.819412</td>\n",
       "      <td>52.403717</td>\n",
       "    </tr>\n",
       "    <tr>\n",
       "      <th>2015-01-02</th>\n",
       "      <td>183.753281</td>\n",
       "      <td>NaN</td>\n",
       "      <td>43.173847</td>\n",
       "      <td>40.069641</td>\n",
       "      <td>NaN</td>\n",
       "      <td>131.628220</td>\n",
       "      <td>52.017788</td>\n",
       "    </tr>\n",
       "    <tr>\n",
       "      <th>2015-01-05</th>\n",
       "      <td>180.526749</td>\n",
       "      <td>NaN</td>\n",
       "      <td>43.220840</td>\n",
       "      <td>39.459007</td>\n",
       "      <td>NaN</td>\n",
       "      <td>129.652740</td>\n",
       "      <td>51.222954</td>\n",
       "    </tr>\n",
       "    <tr>\n",
       "      <th>2015-01-06</th>\n",
       "      <td>178.900208</td>\n",
       "      <td>NaN</td>\n",
       "      <td>43.272114</td>\n",
       "      <td>39.252586</td>\n",
       "      <td>NaN</td>\n",
       "      <td>128.214371</td>\n",
       "      <td>50.368393</td>\n",
       "    </tr>\n",
       "    <tr>\n",
       "      <th>2015-01-07</th>\n",
       "      <td>181.113419</td>\n",
       "      <td>NaN</td>\n",
       "      <td>42.887550</td>\n",
       "      <td>40.061043</td>\n",
       "      <td>NaN</td>\n",
       "      <td>129.953201</td>\n",
       "      <td>50.892155</td>\n",
       "    </tr>\n",
       "    <tr>\n",
       "      <th>...</th>\n",
       "      <td>...</td>\n",
       "      <td>...</td>\n",
       "      <td>...</td>\n",
       "      <td>...</td>\n",
       "      <td>...</td>\n",
       "      <td>...</td>\n",
       "      <td>...</td>\n",
       "    </tr>\n",
       "    <tr>\n",
       "      <th>2019-12-24</th>\n",
       "      <td>316.480499</td>\n",
       "      <td>56.514118</td>\n",
       "      <td>50.483654</td>\n",
       "      <td>52.225918</td>\n",
       "      <td>53.868710</td>\n",
       "      <td>202.210495</td>\n",
       "      <td>82.871719</td>\n",
       "    </tr>\n",
       "    <tr>\n",
       "      <th>2019-12-26</th>\n",
       "      <td>318.118591</td>\n",
       "      <td>56.915134</td>\n",
       "      <td>50.522446</td>\n",
       "      <td>52.637142</td>\n",
       "      <td>53.829487</td>\n",
       "      <td>202.652832</td>\n",
       "      <td>82.763382</td>\n",
       "    </tr>\n",
       "    <tr>\n",
       "      <th>2019-12-27</th>\n",
       "      <td>318.059723</td>\n",
       "      <td>56.983601</td>\n",
       "      <td>50.600044</td>\n",
       "      <td>52.862343</td>\n",
       "      <td>53.878517</td>\n",
       "      <td>202.318634</td>\n",
       "      <td>82.389114</td>\n",
       "    </tr>\n",
       "    <tr>\n",
       "      <th>2019-12-30</th>\n",
       "      <td>316.343201</td>\n",
       "      <td>56.699955</td>\n",
       "      <td>50.609741</td>\n",
       "      <td>52.490276</td>\n",
       "      <td>53.760860</td>\n",
       "      <td>202.122009</td>\n",
       "      <td>82.339859</td>\n",
       "    </tr>\n",
       "    <tr>\n",
       "      <th>2019-12-31</th>\n",
       "      <td>317.059235</td>\n",
       "      <td>56.895569</td>\n",
       "      <td>50.541851</td>\n",
       "      <td>52.637142</td>\n",
       "      <td>53.721634</td>\n",
       "      <td>202.318634</td>\n",
       "      <td>82.586090</td>\n",
       "    </tr>\n",
       "  </tbody>\n",
       "</table>\n",
       "<p>1259 rows × 7 columns</p>\n",
       "</div>"
      ],
      "text/plain": [
       "                   IVV       IDEV       IUSB       IEMG       IAGG  \\\n",
       "Date                                                                 \n",
       "2014-12-31  183.877716        NaN  43.015728  40.448051        NaN   \n",
       "2015-01-02  183.753281        NaN  43.173847  40.069641        NaN   \n",
       "2015-01-05  180.526749        NaN  43.220840  39.459007        NaN   \n",
       "2015-01-06  178.900208        NaN  43.272114  39.252586        NaN   \n",
       "2015-01-07  181.113419        NaN  42.887550  40.061043        NaN   \n",
       "...                ...        ...        ...        ...        ...   \n",
       "2019-12-24  316.480499  56.514118  50.483654  52.225918  53.868710   \n",
       "2019-12-26  318.118591  56.915134  50.522446  52.637142  53.829487   \n",
       "2019-12-27  318.059723  56.983601  50.600044  52.862343  53.878517   \n",
       "2019-12-30  316.343201  56.699955  50.609741  52.490276  53.760860   \n",
       "2019-12-31  317.059235  56.895569  50.541851  52.637142  53.721634   \n",
       "\n",
       "                   IJH        IJR  \n",
       "Date                               \n",
       "2014-12-31  131.819412  52.403717  \n",
       "2015-01-02  131.628220  52.017788  \n",
       "2015-01-05  129.652740  51.222954  \n",
       "2015-01-06  128.214371  50.368393  \n",
       "2015-01-07  129.953201  50.892155  \n",
       "...                ...        ...  \n",
       "2019-12-24  202.210495  82.871719  \n",
       "2019-12-26  202.652832  82.763382  \n",
       "2019-12-27  202.318634  82.389114  \n",
       "2019-12-30  202.122009  82.339859  \n",
       "2019-12-31  202.318634  82.586090  \n",
       "\n",
       "[1259 rows x 7 columns]"
      ]
     },
     "execution_count": 4,
     "metadata": {},
     "output_type": "execute_result"
    }
   ],
   "source": [
    "prices = pd.read_csv('AdClosePrices.csv', index_col='Date', parse_dates=True)\n",
    "prices"
   ]
  },
  {
   "cell_type": "markdown",
   "metadata": {},
   "source": [
    "\n"
   ]
  },
  {
   "cell_type": "markdown",
   "metadata": {},
   "source": [
    "The library finquant provides a way to plot the efficient frontier graph without calculating returns. We set the size of the figure with plt.figure() with figsize argument. The build_portfolio() from ‘finqaunt’ will automatically compute the numbers we need to draw the efficient frontier graph, and ‘ef_plot_efrontier()’ will plot the efficient frontier line. The ‘ef_plot_optimal_portfolio()’ will put markers on the line where the minimum volatility and maximum sharpe ratio can be achieved. The ‘plt_stocks()’ will show the expected return and volatility of each ticker."
   ]
  },
  {
   "cell_type": "code",
   "execution_count": 5,
   "metadata": {},
   "outputs": [
    {
     "data": {
      "image/png": "[encoded data removed]",
      "text/plain": [
       "<Figure size 864x504 with 1 Axes>"
      ]
     },
     "metadata": {
      "needs_background": "light"
     },
     "output_type": "display_data"
    }
   ],
   "source": [
    "plt.figure(figsize = (12,7))\n",
    "pf = build_portfolio(data=prices)\n",
    "pf.ef_plot_efrontier()\n",
    "pf.ef_plot_optimal_portfolios()\n",
    "pf.plot_stocks()"
   ]
  },
  {
   "cell_type": "markdown",
   "metadata": {},
   "source": [
    "You can see the properties of the portfolio with `properties()`. "
   ]
  },
  {
   "cell_type": "code",
   "execution_count": 6,
   "metadata": {},
   "outputs": [
    {
     "name": "stdout",
     "output_type": "stream",
     "text": [
      "----------------------------------------------------------------------\n",
      "Stocks: IVV, IDEV, IUSB, IEMG, IAGG, IJH, IJR\n",
      "Time window/frequency: 252\n",
      "Risk free rate: 0.005\n",
      "Portfolio Expected Return: 0.078\n",
      "Portfolio Volatility: 0.095\n",
      "Portfolio Sharpe Ratio: 0.772\n",
      "\n",
      "Skewness:\n",
      "        IVV      IDEV      IUSB      IEMG      IAGG       IJH       IJR\n",
      "0  0.220047 -0.372332  0.964495 -0.184301  0.959253 -0.128039 -0.045565\n",
      "\n",
      "Kurtosis:\n",
      "        IVV      IDEV      IUSB      IEMG      IAGG       IJH       IJR\n",
      "0 -1.282204 -0.178605  0.445139 -0.901922  0.154492 -1.379201 -1.332602\n",
      "\n",
      "Information:\n",
      "   Allocation  Name\n",
      "0    0.142857   IVV\n",
      "1    0.142857  IDEV\n",
      "2    0.142857  IUSB\n",
      "3    0.142857  IEMG\n",
      "4    0.142857  IAGG\n",
      "5    0.142857   IJH\n",
      "6    0.142857   IJR\n",
      "----------------------------------------------------------------------\n"
     ]
    }
   ],
   "source": [
    "pf.properties()"
   ]
  },
  {
   "cell_type": "code",
   "execution_count": null,
   "metadata": {},
   "outputs": [],
   "source": []
  }
 ],
 "metadata": {
  "kernelspec": {
   "display_name": "Python 3",
   "language": "python",
   "name": "python3"
  },
  "language_info": {
   "codemirror_mode": {
    "name": "ipython",
    "version": 3
   },
   "file_extension": ".py",
   "mimetype": "text/x-python",
   "name": "python",
   "nbconvert_exporter": "python",
   "pygments_lexer": "ipython3",
   "version": "3.8.3"
  }
 },
 "nbformat": 4,
 "nbformat_minor": 2
}
