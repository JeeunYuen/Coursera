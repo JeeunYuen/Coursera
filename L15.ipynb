{
 "cells": [
  {
   "cell_type": "code",
   "execution_count": 1,
   "metadata": {},
   "outputs": [],
   "source": [
    "import pandas as pd\n",
    "import matplotlib.pyplot as plt\n",
    "from finquant.efficient_frontier import EfficientFrontier"
   ]
  },
  {
   "cell_type": "markdown",
   "metadata": {},
   "source": [
    " "
   ]
  },
  {
   "cell_type": "raw",
   "metadata": {},
   "source": [
    "Read the csv file that we created from the L12 that contains the return data of 7 ETFs. We drop the missing data with `dropna()`. It will drop the rows where at least one element is missing."
   ]
  },
  {
   "cell_type": "code",
   "execution_count": 2,
   "metadata": {},
   "outputs": [
    {
     "data": {
      "text/html": [
       "<div>\n",
       "<style scoped>\n",
       "    .dataframe tbody tr th:only-of-type {\n",
       "        vertical-align: middle;\n",
       "    }\n",
       "\n",
       "    .dataframe tbody tr th {\n",
       "        vertical-align: top;\n",
       "    }\n",
       "\n",
       "    .dataframe thead th {\n",
       "        text-align: right;\n",
       "    }\n",
       "</style>\n",
       "<table border=\"1\" class=\"dataframe\">\n",
       "  <thead>\n",
       "    <tr style=\"text-align: right;\">\n",
       "      <th></th>\n",
       "      <th>IVV</th>\n",
       "      <th>IDEV</th>\n",
       "      <th>IUSB</th>\n",
       "      <th>IEMG</th>\n",
       "      <th>IAGG</th>\n",
       "      <th>IJH</th>\n",
       "      <th>IJR</th>\n",
       "    </tr>\n",
       "    <tr>\n",
       "      <th>Date</th>\n",
       "      <th></th>\n",
       "      <th></th>\n",
       "      <th></th>\n",
       "      <th></th>\n",
       "      <th></th>\n",
       "      <th></th>\n",
       "      <th></th>\n",
       "    </tr>\n",
       "  </thead>\n",
       "  <tbody>\n",
       "    <tr>\n",
       "      <th>2017-03-28</th>\n",
       "      <td>0.007360</td>\n",
       "      <td>0.000000</td>\n",
       "      <td>-0.001586</td>\n",
       "      <td>0.001661</td>\n",
       "      <td>-0.000677</td>\n",
       "      <td>0.007599</td>\n",
       "      <td>0.007973</td>\n",
       "    </tr>\n",
       "    <tr>\n",
       "      <th>2017-03-29</th>\n",
       "      <td>0.001478</td>\n",
       "      <td>0.005694</td>\n",
       "      <td>0.003773</td>\n",
       "      <td>0.002487</td>\n",
       "      <td>0.003484</td>\n",
       "      <td>0.003594</td>\n",
       "      <td>0.002637</td>\n",
       "    </tr>\n",
       "    <tr>\n",
       "      <th>2017-03-30</th>\n",
       "      <td>0.002530</td>\n",
       "      <td>0.000000</td>\n",
       "      <td>-0.001780</td>\n",
       "      <td>-0.005375</td>\n",
       "      <td>-0.000579</td>\n",
       "      <td>0.004873</td>\n",
       "      <td>0.008473</td>\n",
       "    </tr>\n",
       "    <tr>\n",
       "      <th>2017-03-31</th>\n",
       "      <td>-0.001935</td>\n",
       "      <td>-0.002343</td>\n",
       "      <td>0.001189</td>\n",
       "      <td>-0.006651</td>\n",
       "      <td>-0.000386</td>\n",
       "      <td>0.000351</td>\n",
       "      <td>0.001884</td>\n",
       "    </tr>\n",
       "    <tr>\n",
       "      <th>2017-04-03</th>\n",
       "      <td>-0.001686</td>\n",
       "      <td>-0.006184</td>\n",
       "      <td>0.002480</td>\n",
       "      <td>0.006487</td>\n",
       "      <td>0.002862</td>\n",
       "      <td>-0.005198</td>\n",
       "      <td>-0.018363</td>\n",
       "    </tr>\n",
       "    <tr>\n",
       "      <th>...</th>\n",
       "      <td>...</td>\n",
       "      <td>...</td>\n",
       "      <td>...</td>\n",
       "      <td>...</td>\n",
       "      <td>...</td>\n",
       "      <td>...</td>\n",
       "      <td>...</td>\n",
       "    </tr>\n",
       "    <tr>\n",
       "      <th>2019-12-24</th>\n",
       "      <td>0.000124</td>\n",
       "      <td>-0.003621</td>\n",
       "      <td>0.000769</td>\n",
       "      <td>-0.001684</td>\n",
       "      <td>0.001002</td>\n",
       "      <td>-0.000097</td>\n",
       "      <td>0.002741</td>\n",
       "    </tr>\n",
       "    <tr>\n",
       "      <th>2019-12-26</th>\n",
       "      <td>0.005176</td>\n",
       "      <td>0.007096</td>\n",
       "      <td>0.000768</td>\n",
       "      <td>0.007874</td>\n",
       "      <td>-0.000728</td>\n",
       "      <td>0.002188</td>\n",
       "      <td>-0.001307</td>\n",
       "    </tr>\n",
       "    <tr>\n",
       "      <th>2019-12-27</th>\n",
       "      <td>-0.000185</td>\n",
       "      <td>0.001203</td>\n",
       "      <td>0.001536</td>\n",
       "      <td>0.004278</td>\n",
       "      <td>0.000911</td>\n",
       "      <td>-0.001649</td>\n",
       "      <td>-0.004522</td>\n",
       "    </tr>\n",
       "    <tr>\n",
       "      <th>2019-12-30</th>\n",
       "      <td>-0.005397</td>\n",
       "      <td>-0.004978</td>\n",
       "      <td>0.000192</td>\n",
       "      <td>-0.007038</td>\n",
       "      <td>-0.002184</td>\n",
       "      <td>-0.000972</td>\n",
       "      <td>-0.000598</td>\n",
       "    </tr>\n",
       "    <tr>\n",
       "      <th>2019-12-31</th>\n",
       "      <td>0.002263</td>\n",
       "      <td>0.003450</td>\n",
       "      <td>-0.001341</td>\n",
       "      <td>0.002798</td>\n",
       "      <td>-0.000730</td>\n",
       "      <td>0.000973</td>\n",
       "      <td>0.002990</td>\n",
       "    </tr>\n",
       "  </tbody>\n",
       "</table>\n",
       "<p>696 rows × 7 columns</p>\n",
       "</div>"
      ],
      "text/plain": [
       "                 IVV      IDEV      IUSB      IEMG      IAGG       IJH  \\\n",
       "Date                                                                     \n",
       "2017-03-28  0.007360  0.000000 -0.001586  0.001661 -0.000677  0.007599   \n",
       "2017-03-29  0.001478  0.005694  0.003773  0.002487  0.003484  0.003594   \n",
       "2017-03-30  0.002530  0.000000 -0.001780 -0.005375 -0.000579  0.004873   \n",
       "2017-03-31 -0.001935 -0.002343  0.001189 -0.006651 -0.000386  0.000351   \n",
       "2017-04-03 -0.001686 -0.006184  0.002480  0.006487  0.002862 -0.005198   \n",
       "...              ...       ...       ...       ...       ...       ...   \n",
       "2019-12-24  0.000124 -0.003621  0.000769 -0.001684  0.001002 -0.000097   \n",
       "2019-12-26  0.005176  0.007096  0.000768  0.007874 -0.000728  0.002188   \n",
       "2019-12-27 -0.000185  0.001203  0.001536  0.004278  0.000911 -0.001649   \n",
       "2019-12-30 -0.005397 -0.004978  0.000192 -0.007038 -0.002184 -0.000972   \n",
       "2019-12-31  0.002263  0.003450 -0.001341  0.002798 -0.000730  0.000973   \n",
       "\n",
       "                 IJR  \n",
       "Date                  \n",
       "2017-03-28  0.007973  \n",
       "2017-03-29  0.002637  \n",
       "2017-03-30  0.008473  \n",
       "2017-03-31  0.001884  \n",
       "2017-04-03 -0.018363  \n",
       "...              ...  \n",
       "2019-12-24  0.002741  \n",
       "2019-12-26 -0.001307  \n",
       "2019-12-27 -0.004522  \n",
       "2019-12-30 -0.000598  \n",
       "2019-12-31  0.002990  \n",
       "\n",
       "[696 rows x 7 columns]"
      ]
     },
     "execution_count": 2,
     "metadata": {},
     "output_type": "execute_result"
    }
   ],
   "source": [
    "returns = pd.read_csv(\"hist_return.csv\", index_col=\"Date\", parse_dates=True).dropna()\n",
    "returns"
   ]
  },
  {
   "cell_type": "markdown",
   "metadata": {},
   "source": [
    "  "
   ]
  },
  {
   "cell_type": "markdown",
   "metadata": {},
   "source": [
    "We're going to use average return of the each ticker and the covariance of the portfolio to get efficient frontier."
   ]
  },
  {
   "cell_type": "code",
   "execution_count": 3,
   "metadata": {
    "scrolled": true
   },
   "outputs": [
    {
     "data": {
      "text/plain": [
       "IVV     0.000573\n",
       "IDEV    0.000330\n",
       "IUSB    0.000166\n",
       "IEMG    0.000332\n",
       "IAGG    0.000194\n",
       "IJH     0.000386\n",
       "IJR     0.000411\n",
       "dtype: float64"
      ]
     },
     "execution_count": 3,
     "metadata": {},
     "output_type": "execute_result"
    }
   ],
   "source": [
    "mean_returns = returns.mean()\n",
    "mean_returns"
   ]
  },
  {
   "cell_type": "code",
   "execution_count": 4,
   "metadata": {},
   "outputs": [
    {
     "data": {
      "text/html": [
       "<div>\n",
       "<style scoped>\n",
       "    .dataframe tbody tr th:only-of-type {\n",
       "        vertical-align: middle;\n",
       "    }\n",
       "\n",
       "    .dataframe tbody tr th {\n",
       "        vertical-align: top;\n",
       "    }\n",
       "\n",
       "    .dataframe thead th {\n",
       "        text-align: right;\n",
       "    }\n",
       "</style>\n",
       "<table border=\"1\" class=\"dataframe\">\n",
       "  <thead>\n",
       "    <tr style=\"text-align: right;\">\n",
       "      <th></th>\n",
       "      <th>IVV</th>\n",
       "      <th>IDEV</th>\n",
       "      <th>IUSB</th>\n",
       "      <th>IEMG</th>\n",
       "      <th>IAGG</th>\n",
       "      <th>IJH</th>\n",
       "      <th>IJR</th>\n",
       "    </tr>\n",
       "  </thead>\n",
       "  <tbody>\n",
       "    <tr>\n",
       "      <th>IVV</th>\n",
       "      <td>0.000069</td>\n",
       "      <td>0.000050</td>\n",
       "      <td>-0.000003</td>\n",
       "      <td>0.000064</td>\n",
       "      <td>-0.000002</td>\n",
       "      <td>0.000066</td>\n",
       "      <td>0.000069</td>\n",
       "    </tr>\n",
       "    <tr>\n",
       "      <th>IDEV</th>\n",
       "      <td>0.000050</td>\n",
       "      <td>0.000053</td>\n",
       "      <td>-0.000001</td>\n",
       "      <td>0.000060</td>\n",
       "      <td>-0.000002</td>\n",
       "      <td>0.000049</td>\n",
       "      <td>0.000051</td>\n",
       "    </tr>\n",
       "    <tr>\n",
       "      <th>IUSB</th>\n",
       "      <td>-0.000003</td>\n",
       "      <td>-0.000001</td>\n",
       "      <td>0.000003</td>\n",
       "      <td>-0.000002</td>\n",
       "      <td>0.000002</td>\n",
       "      <td>-0.000003</td>\n",
       "      <td>-0.000004</td>\n",
       "    </tr>\n",
       "    <tr>\n",
       "      <th>IEMG</th>\n",
       "      <td>0.000064</td>\n",
       "      <td>0.000060</td>\n",
       "      <td>-0.000002</td>\n",
       "      <td>0.000107</td>\n",
       "      <td>-0.000002</td>\n",
       "      <td>0.000063</td>\n",
       "      <td>0.000066</td>\n",
       "    </tr>\n",
       "    <tr>\n",
       "      <th>IAGG</th>\n",
       "      <td>-0.000002</td>\n",
       "      <td>-0.000002</td>\n",
       "      <td>0.000002</td>\n",
       "      <td>-0.000002</td>\n",
       "      <td>0.000004</td>\n",
       "      <td>-0.000003</td>\n",
       "      <td>-0.000003</td>\n",
       "    </tr>\n",
       "    <tr>\n",
       "      <th>IJH</th>\n",
       "      <td>0.000066</td>\n",
       "      <td>0.000049</td>\n",
       "      <td>-0.000003</td>\n",
       "      <td>0.000063</td>\n",
       "      <td>-0.000003</td>\n",
       "      <td>0.000077</td>\n",
       "      <td>0.000083</td>\n",
       "    </tr>\n",
       "    <tr>\n",
       "      <th>IJR</th>\n",
       "      <td>0.000069</td>\n",
       "      <td>0.000051</td>\n",
       "      <td>-0.000004</td>\n",
       "      <td>0.000066</td>\n",
       "      <td>-0.000003</td>\n",
       "      <td>0.000083</td>\n",
       "      <td>0.000098</td>\n",
       "    </tr>\n",
       "  </tbody>\n",
       "</table>\n",
       "</div>"
      ],
      "text/plain": [
       "           IVV      IDEV      IUSB      IEMG      IAGG       IJH       IJR\n",
       "IVV   0.000069  0.000050 -0.000003  0.000064 -0.000002  0.000066  0.000069\n",
       "IDEV  0.000050  0.000053 -0.000001  0.000060 -0.000002  0.000049  0.000051\n",
       "IUSB -0.000003 -0.000001  0.000003 -0.000002  0.000002 -0.000003 -0.000004\n",
       "IEMG  0.000064  0.000060 -0.000002  0.000107 -0.000002  0.000063  0.000066\n",
       "IAGG -0.000002 -0.000002  0.000002 -0.000002  0.000004 -0.000003 -0.000003\n",
       "IJH   0.000066  0.000049 -0.000003  0.000063 -0.000003  0.000077  0.000083\n",
       "IJR   0.000069  0.000051 -0.000004  0.000066 -0.000003  0.000083  0.000098"
      ]
     },
     "execution_count": 4,
     "metadata": {},
     "output_type": "execute_result"
    }
   ],
   "source": [
    "covariance = returns.cov()\n",
    "covariance"
   ]
  },
  {
   "cell_type": "markdown",
   "metadata": {},
   "source": [
    "  "
   ]
  },
  {
   "cell_type": "markdown",
   "metadata": {},
   "source": [
    "We pass the `mean_returns` and `covariance` as the arguments to the `EfficientFrontier` class to obtain the efficient frontier. The `efficient_frontier()` method will find the efficient portfolios with various returns. The default risk-free rate is set to 0.005. And then, we're going to make a new DataFrame with this data with column names specified as 'target_risk' and 'target_return'."
   ]
  },
  {
   "cell_type": "code",
   "execution_count": 5,
   "metadata": {},
   "outputs": [
    {
     "data": {
      "text/html": [
       "<div>\n",
       "<style scoped>\n",
       "    .dataframe tbody tr th:only-of-type {\n",
       "        vertical-align: middle;\n",
       "    }\n",
       "\n",
       "    .dataframe tbody tr th {\n",
       "        vertical-align: top;\n",
       "    }\n",
       "\n",
       "    .dataframe thead th {\n",
       "        text-align: right;\n",
       "    }\n",
       "</style>\n",
       "<table border=\"1\" class=\"dataframe\">\n",
       "  <thead>\n",
       "    <tr style=\"text-align: right;\">\n",
       "      <th></th>\n",
       "      <th>target_risk</th>\n",
       "      <th>target_return</th>\n",
       "    </tr>\n",
       "  </thead>\n",
       "  <tbody>\n",
       "    <tr>\n",
       "      <th>0</th>\n",
       "      <td>0.025804</td>\n",
       "      <td>0.042000</td>\n",
       "    </tr>\n",
       "    <tr>\n",
       "      <th>1</th>\n",
       "      <td>0.024738</td>\n",
       "      <td>0.043030</td>\n",
       "    </tr>\n",
       "    <tr>\n",
       "      <th>2</th>\n",
       "      <td>0.023892</td>\n",
       "      <td>0.044061</td>\n",
       "    </tr>\n",
       "    <tr>\n",
       "      <th>3</th>\n",
       "      <td>0.023265</td>\n",
       "      <td>0.045091</td>\n",
       "    </tr>\n",
       "    <tr>\n",
       "      <th>4</th>\n",
       "      <td>0.022878</td>\n",
       "      <td>0.046121</td>\n",
       "    </tr>\n",
       "    <tr>\n",
       "      <th>...</th>\n",
       "      <td>...</td>\n",
       "      <td>...</td>\n",
       "    </tr>\n",
       "    <tr>\n",
       "      <th>95</th>\n",
       "      <td>0.125541</td>\n",
       "      <td>0.139879</td>\n",
       "    </tr>\n",
       "    <tr>\n",
       "      <th>96</th>\n",
       "      <td>0.127005</td>\n",
       "      <td>0.140909</td>\n",
       "    </tr>\n",
       "    <tr>\n",
       "      <th>97</th>\n",
       "      <td>0.128469</td>\n",
       "      <td>0.141939</td>\n",
       "    </tr>\n",
       "    <tr>\n",
       "      <th>98</th>\n",
       "      <td>0.129935</td>\n",
       "      <td>0.142970</td>\n",
       "    </tr>\n",
       "    <tr>\n",
       "      <th>99</th>\n",
       "      <td>0.131402</td>\n",
       "      <td>0.144000</td>\n",
       "    </tr>\n",
       "  </tbody>\n",
       "</table>\n",
       "<p>100 rows × 2 columns</p>\n",
       "</div>"
      ],
      "text/plain": [
       "    target_risk  target_return\n",
       "0      0.025804       0.042000\n",
       "1      0.024738       0.043030\n",
       "2      0.023892       0.044061\n",
       "3      0.023265       0.045091\n",
       "4      0.022878       0.046121\n",
       "..          ...            ...\n",
       "95     0.125541       0.139879\n",
       "96     0.127005       0.140909\n",
       "97     0.128469       0.141939\n",
       "98     0.129935       0.142970\n",
       "99     0.131402       0.144000\n",
       "\n",
       "[100 rows x 2 columns]"
      ]
     },
     "execution_count": 5,
     "metadata": {},
     "output_type": "execute_result"
    }
   ],
   "source": [
    "ef = EfficientFrontier(mean_returns, covariance)\n",
    "return_risk_frontier = pd.DataFrame(ef.efficient_frontier(), columns=['target_risk', 'target_return']) \n",
    "return_risk_frontier"
   ]
  },
  {
   "cell_type": "markdown",
   "metadata": {},
   "source": [
    "\n"
   ]
  },
  {
   "cell_type": "markdown",
   "metadata": {},
   "source": [
    "The `plot()` method from the pandas will draw a graph and you can pass the size of figure and style as arguments."
   ]
  },
  {
   "cell_type": "code",
   "execution_count": 7,
   "metadata": {
    "scrolled": true
   },
   "outputs": [
    {
     "data": {
      "text/plain": [
       "Text(0, 0.5, 'Return')"
      ]
     },
     "execution_count": 7,
     "metadata": {},
     "output_type": "execute_result"
    },
    {
     "data": {
      "image/png": "[encoded data removed]",
      "text/plain": [
       "<Figure size 864x648 with 1 Axes>"
      ]
     },
     "metadata": {
      "needs_background": "light"
     },
     "output_type": "display_data"
    }
   ],
   "source": [
    "ax = return_risk_frontier.set_index('target_risk').plot(figsize=(12, 9), style='o')\n",
    "ax.set_title('Annualized Frontier', fontsize=20)\n",
    "ax.set_xlabel(\"Risk\", fontsize=15)\n",
    "ax.set_ylabel('Return', fontsize=15)"
   ]
  },
  {
   "cell_type": "markdown",
   "metadata": {},
   "source": [
    "  "
   ]
  },
  {
   "cell_type": "markdown",
   "metadata": {},
   "source": [
    "Get the Sharpe ratios"
   ]
  },
  {
   "cell_type": "code",
   "execution_count": 9,
   "metadata": {},
   "outputs": [
    {
     "data": {
      "text/plain": [
       "0     1.627640\n",
       "1     1.739411\n",
       "2     1.844169\n",
       "3     1.938139\n",
       "4     2.015960\n",
       "        ...   \n",
       "95    1.114205\n",
       "96    1.109478\n",
       "97    1.104850\n",
       "98    1.100317\n",
       "99    1.095877\n",
       "Length: 100, dtype: float64"
      ]
     },
     "execution_count": 9,
     "metadata": {},
     "output_type": "execute_result"
    }
   ],
   "source": [
    "annualized_sharpe = (return_risk_frontier['target_return'] - 0) / return_risk_frontier['target_risk']\n",
    "annualized_sharpe"
   ]
  },
  {
   "cell_type": "markdown",
   "metadata": {},
   "source": [
    "We draw a graph with `annualized_sharpe`. Each dot represents the Sharpe ratio of each portfolio."
   ]
  },
  {
   "cell_type": "code",
   "execution_count": 10,
   "metadata": {},
   "outputs": [
    {
     "data": {
      "text/plain": [
       "Text(0, 0.5, 'Sharpe Ratio')"
      ]
     },
     "execution_count": 10,
     "metadata": {},
     "output_type": "execute_result"
    },
    {
     "data": {
      "image/png": "[encoded data removed]",
      "text/plain": [
       "<Figure size 1080x720 with 1 Axes>"
      ]
     },
     "metadata": {
      "needs_background": "light"
     },
     "output_type": "display_data"
    }
   ],
   "source": [
    "fig = plt.figure(figsize = (15, 10))\n",
    "plt.plot(return_risk_frontier['target_risk'], annualized_sharpe, 'o')\n",
    "plt.xlabel('Risk', fontsize = 15)\n",
    "plt.ylabel('Sharpe Ratio', fontsize = 15)"
   ]
  },
  {
   "cell_type": "markdown",
   "metadata": {},
   "source": [
    "\n"
   ]
  },
  {
   "cell_type": "markdown",
   "metadata": {},
   "source": [
    "We can select the row that has the maximum value of the Sharpe ratio as below."
   ]
  },
  {
   "cell_type": "code",
   "execution_count": 11,
   "metadata": {
    "scrolled": false
   },
   "outputs": [
    {
     "data": {
      "text/html": [
       "<div>\n",
       "<style scoped>\n",
       "    .dataframe tbody tr th:only-of-type {\n",
       "        vertical-align: middle;\n",
       "    }\n",
       "\n",
       "    .dataframe tbody tr th {\n",
       "        vertical-align: top;\n",
       "    }\n",
       "\n",
       "    .dataframe thead th {\n",
       "        text-align: right;\n",
       "    }\n",
       "</style>\n",
       "<table border=\"1\" class=\"dataframe\">\n",
       "  <thead>\n",
       "    <tr style=\"text-align: right;\">\n",
       "      <th></th>\n",
       "      <th>target_risk</th>\n",
       "      <th>target_return</th>\n",
       "    </tr>\n",
       "  </thead>\n",
       "  <tbody>\n",
       "    <tr>\n",
       "      <th>14</th>\n",
       "      <td>0.024509</td>\n",
       "      <td>0.056424</td>\n",
       "    </tr>\n",
       "  </tbody>\n",
       "</table>\n",
       "</div>"
      ],
      "text/plain": [
       "    target_risk  target_return\n",
       "14     0.024509       0.056424"
      ]
     },
     "execution_count": 11,
     "metadata": {},
     "output_type": "execute_result"
    }
   ],
   "source": [
    "return_risk_frontier[annualized_sharpe == max(annualized_sharpe)]"
   ]
  },
  {
   "cell_type": "code",
   "execution_count": null,
   "metadata": {},
   "outputs": [],
   "source": []
  }
 ],
 "metadata": {
  "kernelspec": {
   "display_name": "Python 3",
   "language": "python",
   "name": "python3"
  },
  "language_info": {
   "codemirror_mode": {
    "name": "ipython",
    "version": 3
   },
   "file_extension": ".py",
   "mimetype": "text/x-python",
   "name": "python",
   "nbconvert_exporter": "python",
   "pygments_lexer": "ipython3",
   "version": "3.8.3"
  }
 },
 "nbformat": 4,
 "nbformat_minor": 2
}
