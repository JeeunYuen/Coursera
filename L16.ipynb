{
 "cells": [
  {
   "cell_type": "code",
   "execution_count": 1,
   "metadata": {},
   "outputs": [],
   "source": [
    "import pandas as pd\n",
    "import matplotlib.pyplot as plt\n",
    "import seaborn as sns\n",
    "from finquant.efficient_frontier import EfficientFrontier\n",
    "%matplotlib inline"
   ]
  },
  {
   "cell_type": "markdown",
   "metadata": {},
   "source": [
    "  "
   ]
  },
  {
   "cell_type": "markdown",
   "metadata": {},
   "source": [
    "We're going to suppress the scientific notation like \"3.622707e-17\" to increase the readability with the below code."
   ]
  },
  {
   "cell_type": "markdown",
   "metadata": {},
   "source": [
    "'set_option' sets the value of the specified option. 'display.float_format' is one of options that you can change. We made a lambda function to display numbers only upto 5 digits after dicimal point by using '%.5f'. "
   ]
  },
  {
   "cell_type": "code",
   "execution_count": 2,
   "metadata": {},
   "outputs": [],
   "source": [
    "pd.set_option('display.float_format', lambda x: '%.5f' % x)"
   ]
  },
  {
   "cell_type": "markdown",
   "metadata": {},
   "source": [
    "Read the csv file that we created from the L12 that contains the return data of 7 ETFs."
   ]
  },
  {
   "cell_type": "code",
   "execution_count": 3,
   "metadata": {},
   "outputs": [
    {
     "data": {
      "text/html": [
       "<div>\n",
       "<style scoped>\n",
       "    .dataframe tbody tr th:only-of-type {\n",
       "        vertical-align: middle;\n",
       "    }\n",
       "\n",
       "    .dataframe tbody tr th {\n",
       "        vertical-align: top;\n",
       "    }\n",
       "\n",
       "    .dataframe thead th {\n",
       "        text-align: right;\n",
       "    }\n",
       "</style>\n",
       "<table border=\"1\" class=\"dataframe\">\n",
       "  <thead>\n",
       "    <tr style=\"text-align: right;\">\n",
       "      <th></th>\n",
       "      <th>IVV</th>\n",
       "      <th>IDEV</th>\n",
       "      <th>IUSB</th>\n",
       "      <th>IEMG</th>\n",
       "      <th>IAGG</th>\n",
       "      <th>IJH</th>\n",
       "      <th>IJR</th>\n",
       "    </tr>\n",
       "    <tr>\n",
       "      <th>Date</th>\n",
       "      <th></th>\n",
       "      <th></th>\n",
       "      <th></th>\n",
       "      <th></th>\n",
       "      <th></th>\n",
       "      <th></th>\n",
       "      <th></th>\n",
       "    </tr>\n",
       "  </thead>\n",
       "  <tbody>\n",
       "    <tr>\n",
       "      <th>2017-03-28</th>\n",
       "      <td>0.00736</td>\n",
       "      <td>0.00000</td>\n",
       "      <td>-0.00159</td>\n",
       "      <td>0.00166</td>\n",
       "      <td>-0.00068</td>\n",
       "      <td>0.00760</td>\n",
       "      <td>0.00797</td>\n",
       "    </tr>\n",
       "    <tr>\n",
       "      <th>2017-03-29</th>\n",
       "      <td>0.00148</td>\n",
       "      <td>0.00569</td>\n",
       "      <td>0.00377</td>\n",
       "      <td>0.00249</td>\n",
       "      <td>0.00348</td>\n",
       "      <td>0.00359</td>\n",
       "      <td>0.00264</td>\n",
       "    </tr>\n",
       "    <tr>\n",
       "      <th>2017-03-30</th>\n",
       "      <td>0.00253</td>\n",
       "      <td>0.00000</td>\n",
       "      <td>-0.00178</td>\n",
       "      <td>-0.00538</td>\n",
       "      <td>-0.00058</td>\n",
       "      <td>0.00487</td>\n",
       "      <td>0.00847</td>\n",
       "    </tr>\n",
       "    <tr>\n",
       "      <th>2017-03-31</th>\n",
       "      <td>-0.00193</td>\n",
       "      <td>-0.00234</td>\n",
       "      <td>0.00119</td>\n",
       "      <td>-0.00665</td>\n",
       "      <td>-0.00039</td>\n",
       "      <td>0.00035</td>\n",
       "      <td>0.00188</td>\n",
       "    </tr>\n",
       "    <tr>\n",
       "      <th>2017-04-03</th>\n",
       "      <td>-0.00169</td>\n",
       "      <td>-0.00618</td>\n",
       "      <td>0.00248</td>\n",
       "      <td>0.00649</td>\n",
       "      <td>0.00286</td>\n",
       "      <td>-0.00520</td>\n",
       "      <td>-0.01836</td>\n",
       "    </tr>\n",
       "    <tr>\n",
       "      <th>...</th>\n",
       "      <td>...</td>\n",
       "      <td>...</td>\n",
       "      <td>...</td>\n",
       "      <td>...</td>\n",
       "      <td>...</td>\n",
       "      <td>...</td>\n",
       "      <td>...</td>\n",
       "    </tr>\n",
       "    <tr>\n",
       "      <th>2019-12-24</th>\n",
       "      <td>0.00012</td>\n",
       "      <td>-0.00362</td>\n",
       "      <td>0.00077</td>\n",
       "      <td>-0.00168</td>\n",
       "      <td>0.00100</td>\n",
       "      <td>-0.00010</td>\n",
       "      <td>0.00274</td>\n",
       "    </tr>\n",
       "    <tr>\n",
       "      <th>2019-12-26</th>\n",
       "      <td>0.00518</td>\n",
       "      <td>0.00710</td>\n",
       "      <td>0.00077</td>\n",
       "      <td>0.00787</td>\n",
       "      <td>-0.00073</td>\n",
       "      <td>0.00219</td>\n",
       "      <td>-0.00131</td>\n",
       "    </tr>\n",
       "    <tr>\n",
       "      <th>2019-12-27</th>\n",
       "      <td>-0.00019</td>\n",
       "      <td>0.00120</td>\n",
       "      <td>0.00154</td>\n",
       "      <td>0.00428</td>\n",
       "      <td>0.00091</td>\n",
       "      <td>-0.00165</td>\n",
       "      <td>-0.00452</td>\n",
       "    </tr>\n",
       "    <tr>\n",
       "      <th>2019-12-30</th>\n",
       "      <td>-0.00540</td>\n",
       "      <td>-0.00498</td>\n",
       "      <td>0.00019</td>\n",
       "      <td>-0.00704</td>\n",
       "      <td>-0.00218</td>\n",
       "      <td>-0.00097</td>\n",
       "      <td>-0.00060</td>\n",
       "    </tr>\n",
       "    <tr>\n",
       "      <th>2019-12-31</th>\n",
       "      <td>0.00226</td>\n",
       "      <td>0.00345</td>\n",
       "      <td>-0.00134</td>\n",
       "      <td>0.00280</td>\n",
       "      <td>-0.00073</td>\n",
       "      <td>0.00097</td>\n",
       "      <td>0.00299</td>\n",
       "    </tr>\n",
       "  </tbody>\n",
       "</table>\n",
       "<p>696 rows × 7 columns</p>\n",
       "</div>"
      ],
      "text/plain": [
       "                IVV     IDEV     IUSB     IEMG     IAGG      IJH      IJR\n",
       "Date                                                                     \n",
       "2017-03-28  0.00736  0.00000 -0.00159  0.00166 -0.00068  0.00760  0.00797\n",
       "2017-03-29  0.00148  0.00569  0.00377  0.00249  0.00348  0.00359  0.00264\n",
       "2017-03-30  0.00253  0.00000 -0.00178 -0.00538 -0.00058  0.00487  0.00847\n",
       "2017-03-31 -0.00193 -0.00234  0.00119 -0.00665 -0.00039  0.00035  0.00188\n",
       "2017-04-03 -0.00169 -0.00618  0.00248  0.00649  0.00286 -0.00520 -0.01836\n",
       "...             ...      ...      ...      ...      ...      ...      ...\n",
       "2019-12-24  0.00012 -0.00362  0.00077 -0.00168  0.00100 -0.00010  0.00274\n",
       "2019-12-26  0.00518  0.00710  0.00077  0.00787 -0.00073  0.00219 -0.00131\n",
       "2019-12-27 -0.00019  0.00120  0.00154  0.00428  0.00091 -0.00165 -0.00452\n",
       "2019-12-30 -0.00540 -0.00498  0.00019 -0.00704 -0.00218 -0.00097 -0.00060\n",
       "2019-12-31  0.00226  0.00345 -0.00134  0.00280 -0.00073  0.00097  0.00299\n",
       "\n",
       "[696 rows x 7 columns]"
      ]
     },
     "execution_count": 3,
     "metadata": {},
     "output_type": "execute_result"
    }
   ],
   "source": [
    "returns = pd.read_csv(\"hist_return.csv\", index_col=\"Date\", parse_dates=True).dropna()\n",
    "returns"
   ]
  },
  {
   "cell_type": "markdown",
   "metadata": {},
   "source": [
    "\n"
   ]
  },
  {
   "cell_type": "markdown",
   "metadata": {},
   "source": [
    "Get `EfficientFrontier` with `mean_returns` and  `covariance` of the above data."
   ]
  },
  {
   "cell_type": "code",
   "execution_count": 4,
   "metadata": {},
   "outputs": [],
   "source": [
    "mean_returns =  returns.mean()\n",
    "covariance = returns.cov()\n",
    "ef = EfficientFrontier(mean_returns, covariance)"
   ]
  },
  {
   "cell_type": "markdown",
   "metadata": {},
   "source": [
    "The `maximum_sharpe_ratio()` method finds the portfolio with the maximum sharpe ratio, also called the tangency portfolio."
   ]
  },
  {
   "cell_type": "code",
   "execution_count": 5,
   "metadata": {},
   "outputs": [
    {
     "data": {
      "text/html": [
       "<div>\n",
       "<style scoped>\n",
       "    .dataframe tbody tr th:only-of-type {\n",
       "        vertical-align: middle;\n",
       "    }\n",
       "\n",
       "    .dataframe tbody tr th {\n",
       "        vertical-align: top;\n",
       "    }\n",
       "\n",
       "    .dataframe thead th {\n",
       "        text-align: right;\n",
       "    }\n",
       "</style>\n",
       "<table border=\"1\" class=\"dataframe\">\n",
       "  <thead>\n",
       "    <tr style=\"text-align: right;\">\n",
       "      <th></th>\n",
       "      <th>Allocation</th>\n",
       "    </tr>\n",
       "  </thead>\n",
       "  <tbody>\n",
       "    <tr>\n",
       "      <th>IVV</th>\n",
       "      <td>0.12527</td>\n",
       "    </tr>\n",
       "    <tr>\n",
       "      <th>IDEV</th>\n",
       "      <td>0.00000</td>\n",
       "    </tr>\n",
       "    <tr>\n",
       "      <th>IUSB</th>\n",
       "      <td>0.56422</td>\n",
       "    </tr>\n",
       "    <tr>\n",
       "      <th>IEMG</th>\n",
       "      <td>0.00000</td>\n",
       "    </tr>\n",
       "    <tr>\n",
       "      <th>IAGG</th>\n",
       "      <td>0.31051</td>\n",
       "    </tr>\n",
       "    <tr>\n",
       "      <th>IJH</th>\n",
       "      <td>0.00000</td>\n",
       "    </tr>\n",
       "    <tr>\n",
       "      <th>IJR</th>\n",
       "      <td>0.00000</td>\n",
       "    </tr>\n",
       "  </tbody>\n",
       "</table>\n",
       "</div>"
      ],
      "text/plain": [
       "      Allocation\n",
       "IVV      0.12527\n",
       "IDEV     0.00000\n",
       "IUSB     0.56422\n",
       "IEMG     0.00000\n",
       "IAGG     0.31051\n",
       "IJH      0.00000\n",
       "IJR      0.00000"
      ]
     },
     "execution_count": 5,
     "metadata": {},
     "output_type": "execute_result"
    }
   ],
   "source": [
    "msp = ef.maximum_sharpe_ratio()\n",
    "msp"
   ]
  },
  {
   "cell_type": "markdown",
   "metadata": {},
   "source": [
    "The `minimum_volatility()` method will find the portfolio with the minimum volatility."
   ]
  },
  {
   "cell_type": "code",
   "execution_count": 6,
   "metadata": {},
   "outputs": [
    {
     "data": {
      "text/html": [
       "<div>\n",
       "<style scoped>\n",
       "    .dataframe tbody tr th:only-of-type {\n",
       "        vertical-align: middle;\n",
       "    }\n",
       "\n",
       "    .dataframe tbody tr th {\n",
       "        vertical-align: top;\n",
       "    }\n",
       "\n",
       "    .dataframe thead th {\n",
       "        text-align: right;\n",
       "    }\n",
       "</style>\n",
       "<table border=\"1\" class=\"dataframe\">\n",
       "  <thead>\n",
       "    <tr style=\"text-align: right;\">\n",
       "      <th></th>\n",
       "      <th>Allocation</th>\n",
       "    </tr>\n",
       "  </thead>\n",
       "  <tbody>\n",
       "    <tr>\n",
       "      <th>IVV</th>\n",
       "      <td>0.00943</td>\n",
       "    </tr>\n",
       "    <tr>\n",
       "      <th>IDEV</th>\n",
       "      <td>0.00961</td>\n",
       "    </tr>\n",
       "    <tr>\n",
       "      <th>IUSB</th>\n",
       "      <td>0.68575</td>\n",
       "    </tr>\n",
       "    <tr>\n",
       "      <th>IEMG</th>\n",
       "      <td>0.00000</td>\n",
       "    </tr>\n",
       "    <tr>\n",
       "      <th>IAGG</th>\n",
       "      <td>0.24752</td>\n",
       "    </tr>\n",
       "    <tr>\n",
       "      <th>IJH</th>\n",
       "      <td>0.00645</td>\n",
       "    </tr>\n",
       "    <tr>\n",
       "      <th>IJR</th>\n",
       "      <td>0.04123</td>\n",
       "    </tr>\n",
       "  </tbody>\n",
       "</table>\n",
       "</div>"
      ],
      "text/plain": [
       "      Allocation\n",
       "IVV      0.00943\n",
       "IDEV     0.00961\n",
       "IUSB     0.68575\n",
       "IEMG     0.00000\n",
       "IAGG     0.24752\n",
       "IJH      0.00645\n",
       "IJR      0.04123"
      ]
     },
     "execution_count": 6,
     "metadata": {},
     "output_type": "execute_result"
    }
   ],
   "source": [
    "mvp = ef.minimum_volatility()\n",
    "mvp"
   ]
  },
  {
   "cell_type": "markdown",
   "metadata": {},
   "source": [
    "  "
   ]
  },
  {
   "cell_type": "markdown",
   "metadata": {},
   "source": [
    "Now, We're going to draw a bar plot with `msp`. Seaborn library has a `barplot()` method to draw a bar plot. You can also draw a bar plot with pandas or matplotlib but you have to customize every little detail with them. But seaborn provides a high-level interface for drawing attractive graphics with ease."
   ]
  },
  {
   "cell_type": "code",
   "execution_count": 7,
   "metadata": {},
   "outputs": [
    {
     "data": {
      "text/plain": [
       "Text(0, 0.5, 'Weights in Portfolio (As a decimal)')"
      ]
     },
     "execution_count": 7,
     "metadata": {},
     "output_type": "execute_result"
    },
    {
     "data": {
      "image/png": "[encoded data removed]",
      "text/plain": [
       "<Figure size 864x720 with 1 Axes>"
      ]
     },
     "metadata": {
      "needs_background": "light"
     },
     "output_type": "display_data"
    }
   ],
   "source": [
    "fig = plt.figure(figsize=(12, 10))\n",
    "ax = sns.barplot(x=msp.index, y=\"Allocation\", data=msp)\n",
    "ax.set_title('Max Sharpe Portfolio Weights')\n",
    "ax.set_xlabel('Asset')\n",
    "ax.set_ylabel('Weights in Portfolio (As a decimal)')"
   ]
  },
  {
   "cell_type": "markdown",
   "metadata": {},
   "source": [
    "By giving target volatility as an argument to efficient_volatility(), we can find the maximum return we can get out of the target risk."
   ]
  },
  {
   "cell_type": "code",
   "execution_count": 8,
   "metadata": {},
   "outputs": [
    {
     "data": {
      "text/html": [
       "<div>\n",
       "<style scoped>\n",
       "    .dataframe tbody tr th:only-of-type {\n",
       "        vertical-align: middle;\n",
       "    }\n",
       "\n",
       "    .dataframe tbody tr th {\n",
       "        vertical-align: top;\n",
       "    }\n",
       "\n",
       "    .dataframe thead th {\n",
       "        text-align: right;\n",
       "    }\n",
       "</style>\n",
       "<table border=\"1\" class=\"dataframe\">\n",
       "  <thead>\n",
       "    <tr style=\"text-align: right;\">\n",
       "      <th></th>\n",
       "      <th>Allocation</th>\n",
       "    </tr>\n",
       "  </thead>\n",
       "  <tbody>\n",
       "    <tr>\n",
       "      <th>IVV</th>\n",
       "      <td>0.00668</td>\n",
       "    </tr>\n",
       "    <tr>\n",
       "      <th>IDEV</th>\n",
       "      <td>0.00793</td>\n",
       "    </tr>\n",
       "    <tr>\n",
       "      <th>IUSB</th>\n",
       "      <td>0.68806</td>\n",
       "    </tr>\n",
       "    <tr>\n",
       "      <th>IEMG</th>\n",
       "      <td>0.00000</td>\n",
       "    </tr>\n",
       "    <tr>\n",
       "      <th>IAGG</th>\n",
       "      <td>0.24563</td>\n",
       "    </tr>\n",
       "    <tr>\n",
       "      <th>IJH</th>\n",
       "      <td>0.01699</td>\n",
       "    </tr>\n",
       "    <tr>\n",
       "      <th>IJR</th>\n",
       "      <td>0.03471</td>\n",
       "    </tr>\n",
       "  </tbody>\n",
       "</table>\n",
       "</div>"
      ],
      "text/plain": [
       "      Allocation\n",
       "IVV      0.00668\n",
       "IDEV     0.00793\n",
       "IUSB     0.68806\n",
       "IEMG     0.00000\n",
       "IAGG     0.24563\n",
       "IJH      0.01699\n",
       "IJR      0.03471"
      ]
     },
     "execution_count": 8,
     "metadata": {},
     "output_type": "execute_result"
    }
   ],
   "source": [
    "mrp = ef.efficient_volatility(0.02)\n",
    "mrp"
   ]
  },
  {
   "cell_type": "markdown",
   "metadata": {},
   "source": [
    "Draw a bar graph with the above portfolio's weights. "
   ]
  },
  {
   "cell_type": "code",
   "execution_count": 9,
   "metadata": {},
   "outputs": [
    {
     "data": {
      "text/plain": [
       "Text(0, 0.5, 'Weights in Portfolio (%)')"
      ]
     },
     "execution_count": 9,
     "metadata": {},
     "output_type": "execute_result"
    },
    {
     "data": {
      "image/png": "[encoded data removed]",
      "text/plain": [
       "<Figure size 864x720 with 1 Axes>"
      ]
     },
     "metadata": {
      "needs_background": "light"
     },
     "output_type": "display_data"
    }
   ],
   "source": [
    "fig = plt.figure(figsize = (12, 10))\n",
    "ax = sns.barplot(x=mrp.index, y='Allocation', data=mrp)\n",
    "ax.set_title('Max Return Portfolio Weights with 2% Risk')\n",
    "ax.set_xlabel('Asset')\n",
    "ax.set_ylabel('Weights in Portfolio (%)')"
   ]
  },
  {
   "cell_type": "markdown",
   "metadata": {},
   "source": [
    "We can join columns with other DataFrame on the index with `join()` method. `add_prefix()` will add a prefix to the column names. By doing this, we can have different column names for the same name columns. 'join' will combine two tables using the index. "
   ]
  },
  {
   "cell_type": "code",
   "execution_count": 10,
   "metadata": {
    "scrolled": true
   },
   "outputs": [
    {
     "data": {
      "text/html": [
       "<div>\n",
       "<style scoped>\n",
       "    .dataframe tbody tr th:only-of-type {\n",
       "        vertical-align: middle;\n",
       "    }\n",
       "\n",
       "    .dataframe tbody tr th {\n",
       "        vertical-align: top;\n",
       "    }\n",
       "\n",
       "    .dataframe thead th {\n",
       "        text-align: right;\n",
       "    }\n",
       "</style>\n",
       "<table border=\"1\" class=\"dataframe\">\n",
       "  <thead>\n",
       "    <tr style=\"text-align: right;\">\n",
       "      <th></th>\n",
       "      <th>MSP_Allocation</th>\n",
       "      <th>MRP_Allocation</th>\n",
       "    </tr>\n",
       "  </thead>\n",
       "  <tbody>\n",
       "    <tr>\n",
       "      <th>IVV</th>\n",
       "      <td>0.12527</td>\n",
       "      <td>0.00668</td>\n",
       "    </tr>\n",
       "    <tr>\n",
       "      <th>IDEV</th>\n",
       "      <td>0.00000</td>\n",
       "      <td>0.00793</td>\n",
       "    </tr>\n",
       "    <tr>\n",
       "      <th>IUSB</th>\n",
       "      <td>0.56422</td>\n",
       "      <td>0.68806</td>\n",
       "    </tr>\n",
       "    <tr>\n",
       "      <th>IEMG</th>\n",
       "      <td>0.00000</td>\n",
       "      <td>0.00000</td>\n",
       "    </tr>\n",
       "    <tr>\n",
       "      <th>IAGG</th>\n",
       "      <td>0.31051</td>\n",
       "      <td>0.24563</td>\n",
       "    </tr>\n",
       "    <tr>\n",
       "      <th>IJH</th>\n",
       "      <td>0.00000</td>\n",
       "      <td>0.01699</td>\n",
       "    </tr>\n",
       "    <tr>\n",
       "      <th>IJR</th>\n",
       "      <td>0.00000</td>\n",
       "      <td>0.03471</td>\n",
       "    </tr>\n",
       "  </tbody>\n",
       "</table>\n",
       "</div>"
      ],
      "text/plain": [
       "      MSP_Allocation  MRP_Allocation\n",
       "IVV          0.12527         0.00668\n",
       "IDEV         0.00000         0.00793\n",
       "IUSB         0.56422         0.68806\n",
       "IEMG         0.00000         0.00000\n",
       "IAGG         0.31051         0.24563\n",
       "IJH          0.00000         0.01699\n",
       "IJR          0.00000         0.03471"
      ]
     },
     "execution_count": 10,
     "metadata": {},
     "output_type": "execute_result"
    }
   ],
   "source": [
    "msp_mrp_weights = msp.add_prefix('MSP_').join(mrp.add_prefix('MRP_'))\n",
    "msp_mrp_weights"
   ]
  },
  {
   "cell_type": "markdown",
   "metadata": {},
   "source": [
    "Save the above table as csv."
   ]
  },
  {
   "cell_type": "code",
   "execution_count": 11,
   "metadata": {},
   "outputs": [],
   "source": [
    "msp_mrp_weights.to_csv('msp_mrp_weights.csv')"
   ]
  },
  {
   "cell_type": "code",
   "execution_count": null,
   "metadata": {},
   "outputs": [],
   "source": []
  }
 ],
 "metadata": {
  "kernelspec": {
   "display_name": "Python 3",
   "language": "python",
   "name": "python3"
  },
  "language_info": {
   "codemirror_mode": {
    "name": "ipython",
    "version": 3
   },
   "file_extension": ".py",
   "mimetype": "text/x-python",
   "name": "python",
   "nbconvert_exporter": "python",
   "pygments_lexer": "ipython3",
   "version": "3.8.3"
  }
 },
 "nbformat": 4,
 "nbformat_minor": 2
}
